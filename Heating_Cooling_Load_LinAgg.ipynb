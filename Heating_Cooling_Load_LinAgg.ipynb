{
 "cells": [
  {
   "cell_type": "markdown",
   "metadata": {},
   "source": [
    "#### Features/Column Description :-\n",
    "\n",
    "1) X1 - Relative Compactness<br>\n",
    "2) X2 - Surface Area<br>\n",
    "3) X3 - Wall Area<br>\n",
    "4) X4 - Roof Area<br>\n",
    "5) X5 - Overall Height<br>\n",
    "6) X6 - Orientation<br>\n",
    "7) X7 - Glazing Area<br>\n",
    "8) X8 - Glazing Area Distrbution<br>\n",
    "9) Y1 - Heating Load<br>\n",
    "10) Y2 - Cooling Load\n"
   ]
  },
  {
   "cell_type": "markdown",
   "metadata": {},
   "source": [
    "<b>Regression Task</b><br>\n",
    "Use the given dataset and perform the following:-\n",
    "<ol>\n",
    "<li> Read the 'heat_load.xlsx' dataset.</li>\n",
    "<li> Rename the columns as per the given features</li> \n",
    "<li> Remove/handle null values if any</li>    \n",
    "<li> Considering all the features as independent features (except heating and cooling load) Split the dataset into training and test dataset with test_size = 25%</li>\n",
    "<li> Predict the Heating load based on features from X1 to X8 and also calculate\n",
    "the model score. Also find the intercept and the coefficients corresponding to\n",
    "each of these features. Generate equation of Linear regression</li>\n",
    "<li>Predict the Cooling load based on features from X1 to X8 and also calculate\n",
    "the model score. Also find the intercept and the coefficients corresponding \n",
    "to each of these features. Generate equation of Linear regression</li>\n",
    "<li> Compute MSE, MAE, RMSE for two scenarios(5 and 6)</li> \n",
    "<li>Select appropriate independent features based on Correlation matrix</li>\n",
    "<li>Repeat Q5 and Q7 for heating load after the original dataset has been split into training and testing dataset with test_szie=25% with appropriate independent features selected from correlation matrix</li>\n",
    "<li>Repeat Q6 and Q7 for cooling load after the original dataset has been split into training and testing dataset with test_szie=25% with appropriate independent features selected from correlation matrix</li>   \n",
    "</ol>"
   ]
  },
  {
   "cell_type": "code",
   "execution_count": 1,
   "metadata": {},
   "outputs": [],
   "source": [
    "# Import dependencies\n",
    "import numpy as np\n",
    "import pandas as pd\n",
    "import matplotlib.pyplot as plt\n",
    "import seaborn as sns\n",
    "%matplotlib inline"
   ]
  },
  {
   "cell_type": "code",
   "execution_count": 2,
   "metadata": {},
   "outputs": [
    {
     "data": {
      "text/html": [
       "<div>\n",
       "<style scoped>\n",
       "    .dataframe tbody tr th:only-of-type {\n",
       "        vertical-align: middle;\n",
       "    }\n",
       "\n",
       "    .dataframe tbody tr th {\n",
       "        vertical-align: top;\n",
       "    }\n",
       "\n",
       "    .dataframe thead th {\n",
       "        text-align: right;\n",
       "    }\n",
       "</style>\n",
       "<table border=\"1\" class=\"dataframe\">\n",
       "  <thead>\n",
       "    <tr style=\"text-align: right;\">\n",
       "      <th></th>\n",
       "      <th>X1</th>\n",
       "      <th>X2</th>\n",
       "      <th>X3</th>\n",
       "      <th>X4</th>\n",
       "      <th>X5</th>\n",
       "      <th>X6</th>\n",
       "      <th>X7</th>\n",
       "      <th>X8</th>\n",
       "      <th>Y1</th>\n",
       "      <th>Y2</th>\n",
       "      <th>Unnamed: 10</th>\n",
       "      <th>Unnamed: 11</th>\n",
       "    </tr>\n",
       "  </thead>\n",
       "  <tbody>\n",
       "    <tr>\n",
       "      <th>0</th>\n",
       "      <td>0.98</td>\n",
       "      <td>514.5</td>\n",
       "      <td>294.0</td>\n",
       "      <td>110.25</td>\n",
       "      <td>7.0</td>\n",
       "      <td>2</td>\n",
       "      <td>0.0</td>\n",
       "      <td>0</td>\n",
       "      <td>15.55</td>\n",
       "      <td>21.33</td>\n",
       "      <td>NaN</td>\n",
       "      <td>NaN</td>\n",
       "    </tr>\n",
       "    <tr>\n",
       "      <th>1</th>\n",
       "      <td>0.98</td>\n",
       "      <td>514.5</td>\n",
       "      <td>294.0</td>\n",
       "      <td>110.25</td>\n",
       "      <td>7.0</td>\n",
       "      <td>3</td>\n",
       "      <td>0.0</td>\n",
       "      <td>0</td>\n",
       "      <td>15.55</td>\n",
       "      <td>21.33</td>\n",
       "      <td>NaN</td>\n",
       "      <td>NaN</td>\n",
       "    </tr>\n",
       "    <tr>\n",
       "      <th>2</th>\n",
       "      <td>0.98</td>\n",
       "      <td>514.5</td>\n",
       "      <td>294.0</td>\n",
       "      <td>110.25</td>\n",
       "      <td>7.0</td>\n",
       "      <td>4</td>\n",
       "      <td>0.0</td>\n",
       "      <td>0</td>\n",
       "      <td>15.55</td>\n",
       "      <td>21.33</td>\n",
       "      <td>NaN</td>\n",
       "      <td>NaN</td>\n",
       "    </tr>\n",
       "    <tr>\n",
       "      <th>3</th>\n",
       "      <td>0.98</td>\n",
       "      <td>514.5</td>\n",
       "      <td>294.0</td>\n",
       "      <td>110.25</td>\n",
       "      <td>7.0</td>\n",
       "      <td>5</td>\n",
       "      <td>0.0</td>\n",
       "      <td>0</td>\n",
       "      <td>15.55</td>\n",
       "      <td>21.33</td>\n",
       "      <td>NaN</td>\n",
       "      <td>NaN</td>\n",
       "    </tr>\n",
       "    <tr>\n",
       "      <th>4</th>\n",
       "      <td>0.90</td>\n",
       "      <td>563.5</td>\n",
       "      <td>318.5</td>\n",
       "      <td>122.50</td>\n",
       "      <td>7.0</td>\n",
       "      <td>2</td>\n",
       "      <td>0.0</td>\n",
       "      <td>0</td>\n",
       "      <td>20.84</td>\n",
       "      <td>28.28</td>\n",
       "      <td>NaN</td>\n",
       "      <td>NaN</td>\n",
       "    </tr>\n",
       "  </tbody>\n",
       "</table>\n",
       "</div>"
      ],
      "text/plain": [
       "     X1     X2     X3      X4   X5  X6   X7  X8     Y1     Y2  Unnamed: 10  \\\n",
       "0  0.98  514.5  294.0  110.25  7.0   2  0.0   0  15.55  21.33          NaN   \n",
       "1  0.98  514.5  294.0  110.25  7.0   3  0.0   0  15.55  21.33          NaN   \n",
       "2  0.98  514.5  294.0  110.25  7.0   4  0.0   0  15.55  21.33          NaN   \n",
       "3  0.98  514.5  294.0  110.25  7.0   5  0.0   0  15.55  21.33          NaN   \n",
       "4  0.90  563.5  318.5  122.50  7.0   2  0.0   0  20.84  28.28          NaN   \n",
       "\n",
       "   Unnamed: 11  \n",
       "0          NaN  \n",
       "1          NaN  \n",
       "2          NaN  \n",
       "3          NaN  \n",
       "4          NaN  "
      ]
     },
     "execution_count": 2,
     "metadata": {},
     "output_type": "execute_result"
    }
   ],
   "source": [
    "# 1. Read the 'heat_load.xlsx' dataset.\n",
    "df = pd.read_excel(\"heat_load.xlsx\")\n",
    "df.head()"
   ]
  },
  {
   "cell_type": "code",
   "execution_count": 3,
   "metadata": {},
   "outputs": [],
   "source": [
    "df.drop(columns=['Unnamed: 10','Unnamed: 11'], axis=1, inplace=True)"
   ]
  },
  {
   "cell_type": "code",
   "execution_count": 4,
   "metadata": {},
   "outputs": [],
   "source": [
    "# 2. Rename the columns as per the given features\n",
    "df.rename(columns={\"X1\" :\"Relative Compactness\",\n",
    "                   \"X2\" :\"Surface Area\",\n",
    "                   \"X3\" :\"Wall Area\",\n",
    "                   \"X4\" :\"Roof Area\",\n",
    "                   \"X5\" :\"Overall Height\",\n",
    "                   \"X6\" :\"Orientation\",\n",
    "                   \"X7\" :\"Glazing Area\",\n",
    "                   \"X8\" :\"Glazing Area Distribution\",\n",
    "                   \"Y1\" :\"Heating Load\",\n",
    "                   \"Y2\" :\"Cooling Load\"},inplace=True)"
   ]
  },
  {
   "cell_type": "code",
   "execution_count": 5,
   "metadata": {},
   "outputs": [
    {
     "data": {
      "text/plain": [
       "Relative Compactness         0\n",
       "Surface Area                 0\n",
       "Wall Area                    0\n",
       "Roof Area                    0\n",
       "Overall Height               0\n",
       "Orientation                  0\n",
       "Glazing Area                 0\n",
       "Glazing Area Distribution    0\n",
       "Heating Load                 0\n",
       "Cooling Load                 0\n",
       "dtype: int64"
      ]
     },
     "execution_count": 5,
     "metadata": {},
     "output_type": "execute_result"
    }
   ],
   "source": [
    "# 3. Remove/handle null values if any\n",
    "df.isnull().sum()"
   ]
  },
  {
   "cell_type": "code",
   "execution_count": 6,
   "metadata": {},
   "outputs": [],
   "source": [
    "# 4. Considering all the features as independent features (except heating and cooling load) Split the dataset into training\n",
    "# and test dataset with test_size = 25%\n",
    "from sklearn.model_selection import train_test_split\n",
    "X = df.drop(['Heating Load','Cooling Load'],axis=1)\n",
    "y1 = df['Heating Load']\n",
    "y2 = df['Cooling Load']\n",
    "X_train, X_test, y1_train, y1_test = train_test_split(X, y1, test_size=0.25)\n",
    "X_train, X_test, y2_train, y2_test = train_test_split(X, y2, test_size=0.25)"
   ]
  },
  {
   "cell_type": "code",
   "execution_count": 7,
   "metadata": {},
   "outputs": [
    {
     "data": {
      "text/plain": [
       "-0.05268783527351162"
      ]
     },
     "execution_count": 7,
     "metadata": {},
     "output_type": "execute_result"
    }
   ],
   "source": [
    "# 5. Predict the Heating load based on features from X1 to X8 and also calculate the model score. Also find the intercept \n",
    "# and the coefficients corresponding to each of these features. Generate equation of Linear regression\n",
    "from sklearn.linear_model import LinearRegression\n",
    "model_1 = LinearRegression()\n",
    "model_1.fit(X_train, y1_train)\n",
    "model_1.score(X_test,y1_test)"
   ]
  },
  {
   "cell_type": "code",
   "execution_count": 8,
   "metadata": {},
   "outputs": [
    {
     "data": {
      "text/plain": [
       "(array([ 6.18257526e+01,  8.20983815e-02, -9.25794539e-03,  4.56781635e-02,\n",
       "         2.06309436e+00,  5.39238160e-01,  3.48488649e+00, -2.05028307e-01]),\n",
       " -98.36964542619111)"
      ]
     },
     "execution_count": 8,
     "metadata": {},
     "output_type": "execute_result"
    }
   ],
   "source": [
    "c = model_1.coef_\n",
    "i = model_1.intercept_\n",
    "c,i"
   ]
  },
  {
   "cell_type": "code",
   "execution_count": 9,
   "metadata": {},
   "outputs": [
    {
     "data": {
      "text/plain": [
       "array([24.34851591, 23.16118246, 19.5351052 , 23.78190567, 23.12657925,\n",
       "       21.39501951, 21.76715181, 20.72860265, 23.0360738 , 20.6729231 ])"
      ]
     },
     "execution_count": 9,
     "metadata": {},
     "output_type": "execute_result"
    }
   ],
   "source": [
    "pred = model_1.predict(X_test)\n",
    "pred[:10]"
   ]
  },
  {
   "cell_type": "code",
   "execution_count": 10,
   "metadata": {},
   "outputs": [
    {
     "data": {
      "text/html": [
       "<div>\n",
       "<style scoped>\n",
       "    .dataframe tbody tr th:only-of-type {\n",
       "        vertical-align: middle;\n",
       "    }\n",
       "\n",
       "    .dataframe tbody tr th {\n",
       "        vertical-align: top;\n",
       "    }\n",
       "\n",
       "    .dataframe thead th {\n",
       "        text-align: right;\n",
       "    }\n",
       "</style>\n",
       "<table border=\"1\" class=\"dataframe\">\n",
       "  <thead>\n",
       "    <tr style=\"text-align: right;\">\n",
       "      <th></th>\n",
       "      <th>Relative Compactness</th>\n",
       "      <th>Surface Area</th>\n",
       "      <th>Wall Area</th>\n",
       "      <th>Roof Area</th>\n",
       "      <th>Overall Height</th>\n",
       "      <th>Orientation</th>\n",
       "      <th>Glazing Area</th>\n",
       "      <th>Glazing Area Distribution</th>\n",
       "    </tr>\n",
       "  </thead>\n",
       "  <tbody>\n",
       "    <tr>\n",
       "      <th>59</th>\n",
       "      <td>0.86</td>\n",
       "      <td>588.0</td>\n",
       "      <td>294.0</td>\n",
       "      <td>147.0</td>\n",
       "      <td>7.0</td>\n",
       "      <td>5</td>\n",
       "      <td>0.10</td>\n",
       "      <td>1</td>\n",
       "    </tr>\n",
       "    <tr>\n",
       "      <th>680</th>\n",
       "      <td>0.86</td>\n",
       "      <td>588.0</td>\n",
       "      <td>294.0</td>\n",
       "      <td>147.0</td>\n",
       "      <td>7.0</td>\n",
       "      <td>2</td>\n",
       "      <td>0.40</td>\n",
       "      <td>4</td>\n",
       "    </tr>\n",
       "    <tr>\n",
       "      <th>276</th>\n",
       "      <td>0.66</td>\n",
       "      <td>759.5</td>\n",
       "      <td>318.5</td>\n",
       "      <td>220.5</td>\n",
       "      <td>3.5</td>\n",
       "      <td>2</td>\n",
       "      <td>0.10</td>\n",
       "      <td>5</td>\n",
       "    </tr>\n",
       "    <tr>\n",
       "      <th>343</th>\n",
       "      <td>0.90</td>\n",
       "      <td>563.5</td>\n",
       "      <td>318.5</td>\n",
       "      <td>122.5</td>\n",
       "      <td>7.0</td>\n",
       "      <td>5</td>\n",
       "      <td>0.25</td>\n",
       "      <td>2</td>\n",
       "    </tr>\n",
       "    <tr>\n",
       "      <th>9</th>\n",
       "      <td>0.86</td>\n",
       "      <td>588.0</td>\n",
       "      <td>294.0</td>\n",
       "      <td>147.0</td>\n",
       "      <td>7.0</td>\n",
       "      <td>3</td>\n",
       "      <td>0.00</td>\n",
       "      <td>0</td>\n",
       "    </tr>\n",
       "  </tbody>\n",
       "</table>\n",
       "</div>"
      ],
      "text/plain": [
       "     Relative Compactness  Surface Area  Wall Area  Roof Area  Overall Height  \\\n",
       "59                   0.86         588.0      294.0      147.0             7.0   \n",
       "680                  0.86         588.0      294.0      147.0             7.0   \n",
       "276                  0.66         759.5      318.5      220.5             3.5   \n",
       "343                  0.90         563.5      318.5      122.5             7.0   \n",
       "9                    0.86         588.0      294.0      147.0             7.0   \n",
       "\n",
       "     Orientation  Glazing Area  Glazing Area Distribution  \n",
       "59             5          0.10                          1  \n",
       "680            2          0.40                          4  \n",
       "276            2          0.10                          5  \n",
       "343            5          0.25                          2  \n",
       "9              3          0.00                          0  "
      ]
     },
     "execution_count": 10,
     "metadata": {},
     "output_type": "execute_result"
    }
   ],
   "source": [
    "data_1 = X_test.copy()\n",
    "data_1.head()"
   ]
  },
  {
   "cell_type": "code",
   "execution_count": 11,
   "metadata": {},
   "outputs": [
    {
     "data": {
      "text/html": [
       "<div>\n",
       "<style scoped>\n",
       "    .dataframe tbody tr th:only-of-type {\n",
       "        vertical-align: middle;\n",
       "    }\n",
       "\n",
       "    .dataframe tbody tr th {\n",
       "        vertical-align: top;\n",
       "    }\n",
       "\n",
       "    .dataframe thead th {\n",
       "        text-align: right;\n",
       "    }\n",
       "</style>\n",
       "<table border=\"1\" class=\"dataframe\">\n",
       "  <thead>\n",
       "    <tr style=\"text-align: right;\">\n",
       "      <th></th>\n",
       "      <th>Relative Compactness</th>\n",
       "      <th>Surface Area</th>\n",
       "      <th>Wall Area</th>\n",
       "      <th>Roof Area</th>\n",
       "      <th>Overall Height</th>\n",
       "      <th>Orientation</th>\n",
       "      <th>Glazing Area</th>\n",
       "      <th>Glazing Area Distribution</th>\n",
       "      <th>Heat Load Predicted</th>\n",
       "    </tr>\n",
       "  </thead>\n",
       "  <tbody>\n",
       "    <tr>\n",
       "      <th>59</th>\n",
       "      <td>0.86</td>\n",
       "      <td>588.0</td>\n",
       "      <td>294.0</td>\n",
       "      <td>147.0</td>\n",
       "      <td>7.0</td>\n",
       "      <td>5</td>\n",
       "      <td>0.10</td>\n",
       "      <td>1</td>\n",
       "      <td>24.348516</td>\n",
       "    </tr>\n",
       "    <tr>\n",
       "      <th>680</th>\n",
       "      <td>0.86</td>\n",
       "      <td>588.0</td>\n",
       "      <td>294.0</td>\n",
       "      <td>147.0</td>\n",
       "      <td>7.0</td>\n",
       "      <td>2</td>\n",
       "      <td>0.40</td>\n",
       "      <td>4</td>\n",
       "      <td>23.161182</td>\n",
       "    </tr>\n",
       "    <tr>\n",
       "      <th>276</th>\n",
       "      <td>0.66</td>\n",
       "      <td>759.5</td>\n",
       "      <td>318.5</td>\n",
       "      <td>220.5</td>\n",
       "      <td>3.5</td>\n",
       "      <td>2</td>\n",
       "      <td>0.10</td>\n",
       "      <td>5</td>\n",
       "      <td>19.535105</td>\n",
       "    </tr>\n",
       "    <tr>\n",
       "      <th>343</th>\n",
       "      <td>0.90</td>\n",
       "      <td>563.5</td>\n",
       "      <td>318.5</td>\n",
       "      <td>122.5</td>\n",
       "      <td>7.0</td>\n",
       "      <td>5</td>\n",
       "      <td>0.25</td>\n",
       "      <td>2</td>\n",
       "      <td>23.781906</td>\n",
       "    </tr>\n",
       "    <tr>\n",
       "      <th>9</th>\n",
       "      <td>0.86</td>\n",
       "      <td>588.0</td>\n",
       "      <td>294.0</td>\n",
       "      <td>147.0</td>\n",
       "      <td>7.0</td>\n",
       "      <td>3</td>\n",
       "      <td>0.00</td>\n",
       "      <td>0</td>\n",
       "      <td>23.126579</td>\n",
       "    </tr>\n",
       "  </tbody>\n",
       "</table>\n",
       "</div>"
      ],
      "text/plain": [
       "     Relative Compactness  Surface Area  Wall Area  Roof Area  Overall Height  \\\n",
       "59                   0.86         588.0      294.0      147.0             7.0   \n",
       "680                  0.86         588.0      294.0      147.0             7.0   \n",
       "276                  0.66         759.5      318.5      220.5             3.5   \n",
       "343                  0.90         563.5      318.5      122.5             7.0   \n",
       "9                    0.86         588.0      294.0      147.0             7.0   \n",
       "\n",
       "     Orientation  Glazing Area  Glazing Area Distribution  Heat Load Predicted  \n",
       "59             5          0.10                          1            24.348516  \n",
       "680            2          0.40                          4            23.161182  \n",
       "276            2          0.10                          5            19.535105  \n",
       "343            5          0.25                          2            23.781906  \n",
       "9              3          0.00                          0            23.126579  "
      ]
     },
     "execution_count": 11,
     "metadata": {},
     "output_type": "execute_result"
    }
   ],
   "source": [
    "data_1[\"Heat Load Predicted\"] = pred\n",
    "data_1.head()"
   ]
  },
  {
   "cell_type": "code",
   "execution_count": 12,
   "metadata": {},
   "outputs": [
    {
     "data": {
      "text/html": [
       "<div>\n",
       "<style scoped>\n",
       "    .dataframe tbody tr th:only-of-type {\n",
       "        vertical-align: middle;\n",
       "    }\n",
       "\n",
       "    .dataframe tbody tr th {\n",
       "        vertical-align: top;\n",
       "    }\n",
       "\n",
       "    .dataframe thead th {\n",
       "        text-align: right;\n",
       "    }\n",
       "</style>\n",
       "<table border=\"1\" class=\"dataframe\">\n",
       "  <thead>\n",
       "    <tr style=\"text-align: right;\">\n",
       "      <th></th>\n",
       "      <th>Relative Compactness</th>\n",
       "      <th>Surface Area</th>\n",
       "      <th>Wall Area</th>\n",
       "      <th>Roof Area</th>\n",
       "      <th>Overall Height</th>\n",
       "      <th>Orientation</th>\n",
       "      <th>Glazing Area</th>\n",
       "      <th>Glazing Area Distribution</th>\n",
       "      <th>Heat Load Predicted</th>\n",
       "      <th>Heat Load Equation</th>\n",
       "    </tr>\n",
       "  </thead>\n",
       "  <tbody>\n",
       "    <tr>\n",
       "      <th>59</th>\n",
       "      <td>0.86</td>\n",
       "      <td>588.0</td>\n",
       "      <td>294.0</td>\n",
       "      <td>147.0</td>\n",
       "      <td>7.0</td>\n",
       "      <td>5</td>\n",
       "      <td>0.10</td>\n",
       "      <td>1</td>\n",
       "      <td>24.348516</td>\n",
       "      <td>24.348516</td>\n",
       "    </tr>\n",
       "    <tr>\n",
       "      <th>680</th>\n",
       "      <td>0.86</td>\n",
       "      <td>588.0</td>\n",
       "      <td>294.0</td>\n",
       "      <td>147.0</td>\n",
       "      <td>7.0</td>\n",
       "      <td>2</td>\n",
       "      <td>0.40</td>\n",
       "      <td>4</td>\n",
       "      <td>23.161182</td>\n",
       "      <td>23.161182</td>\n",
       "    </tr>\n",
       "    <tr>\n",
       "      <th>276</th>\n",
       "      <td>0.66</td>\n",
       "      <td>759.5</td>\n",
       "      <td>318.5</td>\n",
       "      <td>220.5</td>\n",
       "      <td>3.5</td>\n",
       "      <td>2</td>\n",
       "      <td>0.10</td>\n",
       "      <td>5</td>\n",
       "      <td>19.535105</td>\n",
       "      <td>19.535105</td>\n",
       "    </tr>\n",
       "    <tr>\n",
       "      <th>343</th>\n",
       "      <td>0.90</td>\n",
       "      <td>563.5</td>\n",
       "      <td>318.5</td>\n",
       "      <td>122.5</td>\n",
       "      <td>7.0</td>\n",
       "      <td>5</td>\n",
       "      <td>0.25</td>\n",
       "      <td>2</td>\n",
       "      <td>23.781906</td>\n",
       "      <td>23.781906</td>\n",
       "    </tr>\n",
       "    <tr>\n",
       "      <th>9</th>\n",
       "      <td>0.86</td>\n",
       "      <td>588.0</td>\n",
       "      <td>294.0</td>\n",
       "      <td>147.0</td>\n",
       "      <td>7.0</td>\n",
       "      <td>3</td>\n",
       "      <td>0.00</td>\n",
       "      <td>0</td>\n",
       "      <td>23.126579</td>\n",
       "      <td>23.126579</td>\n",
       "    </tr>\n",
       "  </tbody>\n",
       "</table>\n",
       "</div>"
      ],
      "text/plain": [
       "     Relative Compactness  Surface Area  Wall Area  Roof Area  Overall Height  \\\n",
       "59                   0.86         588.0      294.0      147.0             7.0   \n",
       "680                  0.86         588.0      294.0      147.0             7.0   \n",
       "276                  0.66         759.5      318.5      220.5             3.5   \n",
       "343                  0.90         563.5      318.5      122.5             7.0   \n",
       "9                    0.86         588.0      294.0      147.0             7.0   \n",
       "\n",
       "     Orientation  Glazing Area  Glazing Area Distribution  \\\n",
       "59             5          0.10                          1   \n",
       "680            2          0.40                          4   \n",
       "276            2          0.10                          5   \n",
       "343            5          0.25                          2   \n",
       "9              3          0.00                          0   \n",
       "\n",
       "     Heat Load Predicted  Heat Load Equation  \n",
       "59             24.348516           24.348516  \n",
       "680            23.161182           23.161182  \n",
       "276            19.535105           19.535105  \n",
       "343            23.781906           23.781906  \n",
       "9              23.126579           23.126579  "
      ]
     },
     "execution_count": 12,
     "metadata": {},
     "output_type": "execute_result"
    }
   ],
   "source": [
    "# y = m1x1+m2x2+...+mnxn+ c\n",
    "data_1['Heat Load Equation'] = data_1['Relative Compactness']*c[0]+\\\n",
    "                               data_1['Surface Area']*c[1]+\\\n",
    "                               data_1['Wall Area']*c[2]+\\\n",
    "                               data_1['Roof Area']*c[3]+\\\n",
    "                               data_1['Overall Height']*c[4]+\\\n",
    "                               data_1['Orientation']*c[5]+\\\n",
    "                               data_1['Glazing Area']*c[6]+\\\n",
    "                               data_1['Glazing Area Distribution']*c[7]+i\n",
    "data_1.head()"
   ]
  },
  {
   "cell_type": "code",
   "execution_count": 13,
   "metadata": {},
   "outputs": [
    {
     "data": {
      "text/plain": [
       "0.8996473157634671"
      ]
     },
     "execution_count": 13,
     "metadata": {},
     "output_type": "execute_result"
    }
   ],
   "source": [
    "# 6. Predict the Cooling load based on features from X1 to X8 and also calculate the model score. Also find the intercept \n",
    "# and the coefficients corresponding to each of these features. Generate equation of Linear regression\n",
    "model_2 = LinearRegression()\n",
    "model_2.fit(X_train, y2_train)\n",
    "model_2.score(X_test,y2_test)"
   ]
  },
  {
   "cell_type": "code",
   "execution_count": 14,
   "metadata": {},
   "outputs": [
    {
     "data": {
      "text/plain": [
       "(array([-7.72476413e+01, -7.42875269e-02,  2.34388060e-02, -4.88631664e-02,\n",
       "         4.14934401e+00,  7.66772432e-02,  1.42335509e+01,  1.76909269e-02]),\n",
       " 109.14997214549575)"
      ]
     },
     "execution_count": 14,
     "metadata": {},
     "output_type": "execute_result"
    }
   ],
   "source": [
    "c_ = model_2.coef_\n",
    "i_ = model_2.intercept_\n",
    "c_,i_"
   ]
  },
  {
   "cell_type": "code",
   "execution_count": 15,
   "metadata": {},
   "outputs": [
    {
     "data": {
      "text/plain": [
       "array([29.61389856, 33.70700489, 14.62395193, 32.26815921, 28.01949806,\n",
       "       17.88136795, 32.31730533, 14.46990874, 19.49824907, 16.70591179])"
      ]
     },
     "execution_count": 15,
     "metadata": {},
     "output_type": "execute_result"
    }
   ],
   "source": [
    "pred_ = model_2.predict(X_test)\n",
    "pred_[:10]"
   ]
  },
  {
   "cell_type": "code",
   "execution_count": 16,
   "metadata": {},
   "outputs": [
    {
     "data": {
      "text/html": [
       "<div>\n",
       "<style scoped>\n",
       "    .dataframe tbody tr th:only-of-type {\n",
       "        vertical-align: middle;\n",
       "    }\n",
       "\n",
       "    .dataframe tbody tr th {\n",
       "        vertical-align: top;\n",
       "    }\n",
       "\n",
       "    .dataframe thead th {\n",
       "        text-align: right;\n",
       "    }\n",
       "</style>\n",
       "<table border=\"1\" class=\"dataframe\">\n",
       "  <thead>\n",
       "    <tr style=\"text-align: right;\">\n",
       "      <th></th>\n",
       "      <th>Relative Compactness</th>\n",
       "      <th>Surface Area</th>\n",
       "      <th>Wall Area</th>\n",
       "      <th>Roof Area</th>\n",
       "      <th>Overall Height</th>\n",
       "      <th>Orientation</th>\n",
       "      <th>Glazing Area</th>\n",
       "      <th>Glazing Area Distribution</th>\n",
       "      <th>Heat Load Predicted</th>\n",
       "      <th>Heat Load Equation</th>\n",
       "      <th>Cooling Load Predicted</th>\n",
       "    </tr>\n",
       "  </thead>\n",
       "  <tbody>\n",
       "    <tr>\n",
       "      <th>59</th>\n",
       "      <td>0.86</td>\n",
       "      <td>588.0</td>\n",
       "      <td>294.0</td>\n",
       "      <td>147.0</td>\n",
       "      <td>7.0</td>\n",
       "      <td>5</td>\n",
       "      <td>0.10</td>\n",
       "      <td>1</td>\n",
       "      <td>24.348516</td>\n",
       "      <td>24.348516</td>\n",
       "      <td>29.613899</td>\n",
       "    </tr>\n",
       "    <tr>\n",
       "      <th>680</th>\n",
       "      <td>0.86</td>\n",
       "      <td>588.0</td>\n",
       "      <td>294.0</td>\n",
       "      <td>147.0</td>\n",
       "      <td>7.0</td>\n",
       "      <td>2</td>\n",
       "      <td>0.40</td>\n",
       "      <td>4</td>\n",
       "      <td>23.161182</td>\n",
       "      <td>23.161182</td>\n",
       "      <td>33.707005</td>\n",
       "    </tr>\n",
       "    <tr>\n",
       "      <th>276</th>\n",
       "      <td>0.66</td>\n",
       "      <td>759.5</td>\n",
       "      <td>318.5</td>\n",
       "      <td>220.5</td>\n",
       "      <td>3.5</td>\n",
       "      <td>2</td>\n",
       "      <td>0.10</td>\n",
       "      <td>5</td>\n",
       "      <td>19.535105</td>\n",
       "      <td>19.535105</td>\n",
       "      <td>14.623952</td>\n",
       "    </tr>\n",
       "    <tr>\n",
       "      <th>343</th>\n",
       "      <td>0.90</td>\n",
       "      <td>563.5</td>\n",
       "      <td>318.5</td>\n",
       "      <td>122.5</td>\n",
       "      <td>7.0</td>\n",
       "      <td>5</td>\n",
       "      <td>0.25</td>\n",
       "      <td>2</td>\n",
       "      <td>23.781906</td>\n",
       "      <td>23.781906</td>\n",
       "      <td>32.268159</td>\n",
       "    </tr>\n",
       "    <tr>\n",
       "      <th>9</th>\n",
       "      <td>0.86</td>\n",
       "      <td>588.0</td>\n",
       "      <td>294.0</td>\n",
       "      <td>147.0</td>\n",
       "      <td>7.0</td>\n",
       "      <td>3</td>\n",
       "      <td>0.00</td>\n",
       "      <td>0</td>\n",
       "      <td>23.126579</td>\n",
       "      <td>23.126579</td>\n",
       "      <td>28.019498</td>\n",
       "    </tr>\n",
       "  </tbody>\n",
       "</table>\n",
       "</div>"
      ],
      "text/plain": [
       "     Relative Compactness  Surface Area  Wall Area  Roof Area  Overall Height  \\\n",
       "59                   0.86         588.0      294.0      147.0             7.0   \n",
       "680                  0.86         588.0      294.0      147.0             7.0   \n",
       "276                  0.66         759.5      318.5      220.5             3.5   \n",
       "343                  0.90         563.5      318.5      122.5             7.0   \n",
       "9                    0.86         588.0      294.0      147.0             7.0   \n",
       "\n",
       "     Orientation  Glazing Area  Glazing Area Distribution  \\\n",
       "59             5          0.10                          1   \n",
       "680            2          0.40                          4   \n",
       "276            2          0.10                          5   \n",
       "343            5          0.25                          2   \n",
       "9              3          0.00                          0   \n",
       "\n",
       "     Heat Load Predicted  Heat Load Equation  Cooling Load Predicted  \n",
       "59             24.348516           24.348516               29.613899  \n",
       "680            23.161182           23.161182               33.707005  \n",
       "276            19.535105           19.535105               14.623952  \n",
       "343            23.781906           23.781906               32.268159  \n",
       "9              23.126579           23.126579               28.019498  "
      ]
     },
     "execution_count": 16,
     "metadata": {},
     "output_type": "execute_result"
    }
   ],
   "source": [
    "data_1[\"Cooling Load Predicted\"] = pred_\n",
    "data_1.head()"
   ]
  },
  {
   "cell_type": "code",
   "execution_count": 17,
   "metadata": {},
   "outputs": [
    {
     "data": {
      "text/html": [
       "<div>\n",
       "<style scoped>\n",
       "    .dataframe tbody tr th:only-of-type {\n",
       "        vertical-align: middle;\n",
       "    }\n",
       "\n",
       "    .dataframe tbody tr th {\n",
       "        vertical-align: top;\n",
       "    }\n",
       "\n",
       "    .dataframe thead th {\n",
       "        text-align: right;\n",
       "    }\n",
       "</style>\n",
       "<table border=\"1\" class=\"dataframe\">\n",
       "  <thead>\n",
       "    <tr style=\"text-align: right;\">\n",
       "      <th></th>\n",
       "      <th>Relative Compactness</th>\n",
       "      <th>Surface Area</th>\n",
       "      <th>Wall Area</th>\n",
       "      <th>Roof Area</th>\n",
       "      <th>Overall Height</th>\n",
       "      <th>Orientation</th>\n",
       "      <th>Glazing Area</th>\n",
       "      <th>Glazing Area Distribution</th>\n",
       "      <th>Heat Load Predicted</th>\n",
       "      <th>Heat Load Equation</th>\n",
       "      <th>Cooling Load Predicted</th>\n",
       "      <th>Cooling Load Equation</th>\n",
       "    </tr>\n",
       "  </thead>\n",
       "  <tbody>\n",
       "    <tr>\n",
       "      <th>59</th>\n",
       "      <td>0.86</td>\n",
       "      <td>588.0</td>\n",
       "      <td>294.0</td>\n",
       "      <td>147.0</td>\n",
       "      <td>7.0</td>\n",
       "      <td>5</td>\n",
       "      <td>0.10</td>\n",
       "      <td>1</td>\n",
       "      <td>24.348516</td>\n",
       "      <td>24.348516</td>\n",
       "      <td>29.613899</td>\n",
       "      <td>29.613899</td>\n",
       "    </tr>\n",
       "    <tr>\n",
       "      <th>680</th>\n",
       "      <td>0.86</td>\n",
       "      <td>588.0</td>\n",
       "      <td>294.0</td>\n",
       "      <td>147.0</td>\n",
       "      <td>7.0</td>\n",
       "      <td>2</td>\n",
       "      <td>0.40</td>\n",
       "      <td>4</td>\n",
       "      <td>23.161182</td>\n",
       "      <td>23.161182</td>\n",
       "      <td>33.707005</td>\n",
       "      <td>33.707005</td>\n",
       "    </tr>\n",
       "    <tr>\n",
       "      <th>276</th>\n",
       "      <td>0.66</td>\n",
       "      <td>759.5</td>\n",
       "      <td>318.5</td>\n",
       "      <td>220.5</td>\n",
       "      <td>3.5</td>\n",
       "      <td>2</td>\n",
       "      <td>0.10</td>\n",
       "      <td>5</td>\n",
       "      <td>19.535105</td>\n",
       "      <td>19.535105</td>\n",
       "      <td>14.623952</td>\n",
       "      <td>14.623952</td>\n",
       "    </tr>\n",
       "    <tr>\n",
       "      <th>343</th>\n",
       "      <td>0.90</td>\n",
       "      <td>563.5</td>\n",
       "      <td>318.5</td>\n",
       "      <td>122.5</td>\n",
       "      <td>7.0</td>\n",
       "      <td>5</td>\n",
       "      <td>0.25</td>\n",
       "      <td>2</td>\n",
       "      <td>23.781906</td>\n",
       "      <td>23.781906</td>\n",
       "      <td>32.268159</td>\n",
       "      <td>32.268159</td>\n",
       "    </tr>\n",
       "    <tr>\n",
       "      <th>9</th>\n",
       "      <td>0.86</td>\n",
       "      <td>588.0</td>\n",
       "      <td>294.0</td>\n",
       "      <td>147.0</td>\n",
       "      <td>7.0</td>\n",
       "      <td>3</td>\n",
       "      <td>0.00</td>\n",
       "      <td>0</td>\n",
       "      <td>23.126579</td>\n",
       "      <td>23.126579</td>\n",
       "      <td>28.019498</td>\n",
       "      <td>28.019498</td>\n",
       "    </tr>\n",
       "  </tbody>\n",
       "</table>\n",
       "</div>"
      ],
      "text/plain": [
       "     Relative Compactness  Surface Area  Wall Area  Roof Area  Overall Height  \\\n",
       "59                   0.86         588.0      294.0      147.0             7.0   \n",
       "680                  0.86         588.0      294.0      147.0             7.0   \n",
       "276                  0.66         759.5      318.5      220.5             3.5   \n",
       "343                  0.90         563.5      318.5      122.5             7.0   \n",
       "9                    0.86         588.0      294.0      147.0             7.0   \n",
       "\n",
       "     Orientation  Glazing Area  Glazing Area Distribution  \\\n",
       "59             5          0.10                          1   \n",
       "680            2          0.40                          4   \n",
       "276            2          0.10                          5   \n",
       "343            5          0.25                          2   \n",
       "9              3          0.00                          0   \n",
       "\n",
       "     Heat Load Predicted  Heat Load Equation  Cooling Load Predicted  \\\n",
       "59             24.348516           24.348516               29.613899   \n",
       "680            23.161182           23.161182               33.707005   \n",
       "276            19.535105           19.535105               14.623952   \n",
       "343            23.781906           23.781906               32.268159   \n",
       "9              23.126579           23.126579               28.019498   \n",
       "\n",
       "     Cooling Load Equation  \n",
       "59               29.613899  \n",
       "680              33.707005  \n",
       "276              14.623952  \n",
       "343              32.268159  \n",
       "9                28.019498  "
      ]
     },
     "execution_count": 17,
     "metadata": {},
     "output_type": "execute_result"
    }
   ],
   "source": [
    "# y = m1x1+m2x2+...+mnxn+ c\n",
    "data_1['Cooling Load Equation'] = data_1['Relative Compactness']*c_[0]+\\\n",
    "                                  data_1['Surface Area']*c_[1]+\\\n",
    "                                  data_1['Wall Area']*c_[2]+\\\n",
    "                                  data_1['Roof Area']*c_[3]+\\\n",
    "                                  data_1['Overall Height']*c_[4]+\\\n",
    "                                  data_1['Orientation']*c_[5]+\\\n",
    "                                  data_1['Glazing Area']*c_[6]+\\\n",
    "                                  data_1['Glazing Area Distribution']*c_[7]+i_\n",
    "data_1.head()"
   ]
  },
  {
   "cell_type": "code",
   "execution_count": 18,
   "metadata": {},
   "outputs": [
    {
     "name": "stdout",
     "output_type": "stream",
     "text": [
      "Accuracy obtained for model_1: -0.05\n",
      "Mean Absolute Error obtained for model_1: 9.12\n",
      "Mean Squared Error for model_1: 103.58\n",
      "Root Mean Squared Error obtained for model_1: 10.18\n",
      "\n",
      "Accuracy obtained for model_2: 0.90\n",
      "Mean Absolute Error obtained for model_2: 2.18\n",
      "Mean Squared Error for model_2: 9.23\n",
      "Root Mean Squared Error obtained for model_2: 3.04\n"
     ]
    }
   ],
   "source": [
    "# 7. Compute MSE, MAE, RMSE for two scenarios(5 and 6)\n",
    "from sklearn.metrics import r2_score, mean_absolute_error, mean_squared_error\n",
    "print(f\"Accuracy obtained for model_1: {r2_score(y1_test,pred):.2f}\")\n",
    "print(f\"Mean Absolute Error obtained for model_1: {mean_absolute_error(y1_test,pred):.2f}\")\n",
    "print(f\"Mean Squared Error for model_1: {mean_squared_error(y1_test,pred):.2f}\")\n",
    "print(f\"Root Mean Squared Error obtained for model_1: {mean_squared_error(y1_test,pred)**0.5:.2f}\")\n",
    "print()\n",
    "print(f\"Accuracy obtained for model_2: {r2_score(y2_test,pred_):.2f}\")\n",
    "print(f\"Mean Absolute Error obtained for model_2: {mean_absolute_error(y2_test,pred_):.2f}\")\n",
    "print(f\"Mean Squared Error for model_2: {mean_squared_error(y2_test,pred_):.2f}\")\n",
    "print(f\"Root Mean Squared Error obtained for model_2: {mean_squared_error(y2_test,pred_)**0.5:.2f}\")"
   ]
  },
  {
   "cell_type": "code",
   "execution_count": 19,
   "metadata": {},
   "outputs": [
    {
     "data": {
      "image/png": "[encoded data removed]",
      "text/plain": [
       "<Figure size 1080x720 with 1 Axes>"
      ]
     },
     "metadata": {
      "needs_background": "light"
     },
     "output_type": "display_data"
    }
   ],
   "source": [
    "# 8. Select appropriate independent features based on Correlation matrix\n",
    "corr_matrix = df.corr()\n",
    "fig,ax = plt.subplots(figsize=(15,10))\n",
    "ax = sns.heatmap(corr_matrix,\n",
    "                 annot=True,\n",
    "                 linewidth=10.5,\n",
    "                 fmt=\".2f\",\n",
    "                 cbar=False,\n",
    "                 color=[\"Yellow\",\"Green\",\"Blue\"]);"
   ]
  },
  {
   "cell_type": "markdown",
   "metadata": {},
   "source": [
    "**Assuming the threshold value of 0.5 for selecting the feature that highly corresponds to the target variables**\n",
    "Variables selected for model1:\n",
    "* Relative Compactness (0.62)\n",
    "* Overall Height (0.89)\n",
    "* Wall Area (0.46)"
   ]
  },
  {
   "cell_type": "markdown",
   "metadata": {},
   "source": [
    "**For Heating Load**"
   ]
  },
  {
   "cell_type": "code",
   "execution_count": 20,
   "metadata": {},
   "outputs": [
    {
     "data": {
      "text/html": [
       "<div>\n",
       "<style scoped>\n",
       "    .dataframe tbody tr th:only-of-type {\n",
       "        vertical-align: middle;\n",
       "    }\n",
       "\n",
       "    .dataframe tbody tr th {\n",
       "        vertical-align: top;\n",
       "    }\n",
       "\n",
       "    .dataframe thead th {\n",
       "        text-align: right;\n",
       "    }\n",
       "</style>\n",
       "<table border=\"1\" class=\"dataframe\">\n",
       "  <thead>\n",
       "    <tr style=\"text-align: right;\">\n",
       "      <th></th>\n",
       "      <th>Relative Compactness</th>\n",
       "      <th>Overall Height</th>\n",
       "      <th>Wall Area</th>\n",
       "      <th>Roof Area</th>\n",
       "      <th>Heating Load</th>\n",
       "    </tr>\n",
       "  </thead>\n",
       "  <tbody>\n",
       "    <tr>\n",
       "      <th>0</th>\n",
       "      <td>0.98</td>\n",
       "      <td>7.0</td>\n",
       "      <td>294.0</td>\n",
       "      <td>110.25</td>\n",
       "      <td>15.55</td>\n",
       "    </tr>\n",
       "    <tr>\n",
       "      <th>1</th>\n",
       "      <td>0.98</td>\n",
       "      <td>7.0</td>\n",
       "      <td>294.0</td>\n",
       "      <td>110.25</td>\n",
       "      <td>15.55</td>\n",
       "    </tr>\n",
       "    <tr>\n",
       "      <th>2</th>\n",
       "      <td>0.98</td>\n",
       "      <td>7.0</td>\n",
       "      <td>294.0</td>\n",
       "      <td>110.25</td>\n",
       "      <td>15.55</td>\n",
       "    </tr>\n",
       "    <tr>\n",
       "      <th>3</th>\n",
       "      <td>0.98</td>\n",
       "      <td>7.0</td>\n",
       "      <td>294.0</td>\n",
       "      <td>110.25</td>\n",
       "      <td>15.55</td>\n",
       "    </tr>\n",
       "    <tr>\n",
       "      <th>4</th>\n",
       "      <td>0.90</td>\n",
       "      <td>7.0</td>\n",
       "      <td>318.5</td>\n",
       "      <td>122.50</td>\n",
       "      <td>20.84</td>\n",
       "    </tr>\n",
       "    <tr>\n",
       "      <th>...</th>\n",
       "      <td>...</td>\n",
       "      <td>...</td>\n",
       "      <td>...</td>\n",
       "      <td>...</td>\n",
       "      <td>...</td>\n",
       "    </tr>\n",
       "    <tr>\n",
       "      <th>763</th>\n",
       "      <td>0.64</td>\n",
       "      <td>3.5</td>\n",
       "      <td>343.0</td>\n",
       "      <td>220.50</td>\n",
       "      <td>17.88</td>\n",
       "    </tr>\n",
       "    <tr>\n",
       "      <th>764</th>\n",
       "      <td>0.62</td>\n",
       "      <td>3.5</td>\n",
       "      <td>367.5</td>\n",
       "      <td>220.50</td>\n",
       "      <td>16.54</td>\n",
       "    </tr>\n",
       "    <tr>\n",
       "      <th>765</th>\n",
       "      <td>0.62</td>\n",
       "      <td>3.5</td>\n",
       "      <td>367.5</td>\n",
       "      <td>220.50</td>\n",
       "      <td>16.44</td>\n",
       "    </tr>\n",
       "    <tr>\n",
       "      <th>766</th>\n",
       "      <td>0.62</td>\n",
       "      <td>3.5</td>\n",
       "      <td>367.5</td>\n",
       "      <td>220.50</td>\n",
       "      <td>16.48</td>\n",
       "    </tr>\n",
       "    <tr>\n",
       "      <th>767</th>\n",
       "      <td>0.62</td>\n",
       "      <td>3.5</td>\n",
       "      <td>367.5</td>\n",
       "      <td>220.50</td>\n",
       "      <td>16.64</td>\n",
       "    </tr>\n",
       "  </tbody>\n",
       "</table>\n",
       "<p>768 rows × 5 columns</p>\n",
       "</div>"
      ],
      "text/plain": [
       "     Relative Compactness  Overall Height  Wall Area  Roof Area  Heating Load\n",
       "0                    0.98             7.0      294.0     110.25         15.55\n",
       "1                    0.98             7.0      294.0     110.25         15.55\n",
       "2                    0.98             7.0      294.0     110.25         15.55\n",
       "3                    0.98             7.0      294.0     110.25         15.55\n",
       "4                    0.90             7.0      318.5     122.50         20.84\n",
       "..                    ...             ...        ...        ...           ...\n",
       "763                  0.64             3.5      343.0     220.50         17.88\n",
       "764                  0.62             3.5      367.5     220.50         16.54\n",
       "765                  0.62             3.5      367.5     220.50         16.44\n",
       "766                  0.62             3.5      367.5     220.50         16.48\n",
       "767                  0.62             3.5      367.5     220.50         16.64\n",
       "\n",
       "[768 rows x 5 columns]"
      ]
     },
     "execution_count": 20,
     "metadata": {},
     "output_type": "execute_result"
    }
   ],
   "source": [
    "# 9. Repeat Q5 and Q7 for heating load after the original dataset has been split into training and testing dataset with \n",
    "# test_size=25% with appropriate independent features selected from correlation matrix\n",
    "sel_features = df[['Relative Compactness','Overall Height','Wall Area','Roof Area','Heating Load']]\n",
    "sel_features"
   ]
  },
  {
   "cell_type": "code",
   "execution_count": 21,
   "metadata": {},
   "outputs": [],
   "source": [
    "X_ = sel_features.drop(['Heating Load'],axis=1)\n",
    "y1_ = sel_features['Heating Load']"
   ]
  },
  {
   "cell_type": "code",
   "execution_count": 22,
   "metadata": {},
   "outputs": [
    {
     "data": {
      "text/plain": [
       "0.8531338647583482"
      ]
     },
     "execution_count": 22,
     "metadata": {},
     "output_type": "execute_result"
    }
   ],
   "source": [
    "X_train_, X_test_,y1_train_,y1_test_ = train_test_split(X_,y1_,test_size=0.25)\n",
    "model_3 = LinearRegression()\n",
    "model_3.fit(X_train_,y1_train_)\n",
    "model_3.score(X_test_, y1_test_)"
   ]
  },
  {
   "cell_type": "code",
   "execution_count": 23,
   "metadata": {},
   "outputs": [
    {
     "data": {
      "text/plain": [
       "array([15.37138127, 10.83720023, 28.74100158, 37.23014635, 12.79532729,\n",
       "       10.83720023, 30.42479936, 28.17298821, 14.75345435, 37.23014635])"
      ]
     },
     "execution_count": 23,
     "metadata": {},
     "output_type": "execute_result"
    }
   ],
   "source": [
    "pred_1 = model_3.predict(X_test_)\n",
    "pred_1[:10]"
   ]
  },
  {
   "cell_type": "code",
   "execution_count": 24,
   "metadata": {},
   "outputs": [
    {
     "name": "stdout",
     "output_type": "stream",
     "text": [
      "Accuracy obtained for model_3: 0.85\n",
      "Mean Absolute Error obtained for model_3: 3.01\n",
      "Mean Squared Error for model_3: 16.24\n",
      "Root Mean Squared Error obtained for model_3: 4.03\n"
     ]
    }
   ],
   "source": [
    "print(f\"Accuracy obtained for model_3: {r2_score(y1_test_,pred_1):.2f}\")\n",
    "print(f\"Mean Absolute Error obtained for model_3: {mean_absolute_error(y1_test_,pred_1):.2f}\")\n",
    "print(f\"Mean Squared Error for model_3: {mean_squared_error(y1_test_,pred_1):.2f}\")\n",
    "print(f\"Root Mean Squared Error obtained for model_3: {mean_squared_error(y1_test_,pred_1)**0.5:.2f}\")"
   ]
  },
  {
   "cell_type": "markdown",
   "metadata": {},
   "source": [
    "**For Cooling Load**"
   ]
  },
  {
   "cell_type": "code",
   "execution_count": 25,
   "metadata": {},
   "outputs": [
    {
     "data": {
      "text/html": [
       "<div>\n",
       "<style scoped>\n",
       "    .dataframe tbody tr th:only-of-type {\n",
       "        vertical-align: middle;\n",
       "    }\n",
       "\n",
       "    .dataframe tbody tr th {\n",
       "        vertical-align: top;\n",
       "    }\n",
       "\n",
       "    .dataframe thead th {\n",
       "        text-align: right;\n",
       "    }\n",
       "</style>\n",
       "<table border=\"1\" class=\"dataframe\">\n",
       "  <thead>\n",
       "    <tr style=\"text-align: right;\">\n",
       "      <th></th>\n",
       "      <th>Relative Compactness</th>\n",
       "      <th>Wall Area</th>\n",
       "      <th>Overall Height</th>\n",
       "      <th>Cooling Load</th>\n",
       "    </tr>\n",
       "  </thead>\n",
       "  <tbody>\n",
       "    <tr>\n",
       "      <th>0</th>\n",
       "      <td>0.98</td>\n",
       "      <td>294.0</td>\n",
       "      <td>7.0</td>\n",
       "      <td>21.33</td>\n",
       "    </tr>\n",
       "    <tr>\n",
       "      <th>1</th>\n",
       "      <td>0.98</td>\n",
       "      <td>294.0</td>\n",
       "      <td>7.0</td>\n",
       "      <td>21.33</td>\n",
       "    </tr>\n",
       "    <tr>\n",
       "      <th>2</th>\n",
       "      <td>0.98</td>\n",
       "      <td>294.0</td>\n",
       "      <td>7.0</td>\n",
       "      <td>21.33</td>\n",
       "    </tr>\n",
       "    <tr>\n",
       "      <th>3</th>\n",
       "      <td>0.98</td>\n",
       "      <td>294.0</td>\n",
       "      <td>7.0</td>\n",
       "      <td>21.33</td>\n",
       "    </tr>\n",
       "    <tr>\n",
       "      <th>4</th>\n",
       "      <td>0.90</td>\n",
       "      <td>318.5</td>\n",
       "      <td>7.0</td>\n",
       "      <td>28.28</td>\n",
       "    </tr>\n",
       "  </tbody>\n",
       "</table>\n",
       "</div>"
      ],
      "text/plain": [
       "   Relative Compactness  Wall Area  Overall Height  Cooling Load\n",
       "0                  0.98      294.0             7.0         21.33\n",
       "1                  0.98      294.0             7.0         21.33\n",
       "2                  0.98      294.0             7.0         21.33\n",
       "3                  0.98      294.0             7.0         21.33\n",
       "4                  0.90      318.5             7.0         28.28"
      ]
     },
     "execution_count": 25,
     "metadata": {},
     "output_type": "execute_result"
    }
   ],
   "source": [
    "# 10. Repeat Q6 and Q7 for cooling load after the original dataset has been split into training and testing dataset with \n",
    "# test_size=25% with appropriate independent features selected from correlation matrix\n",
    "sel_features_ = df[['Relative Compactness','Wall Area','Overall Height','Cooling Load']]\n",
    "sel_features_.head()"
   ]
  },
  {
   "cell_type": "code",
   "execution_count": 26,
   "metadata": {},
   "outputs": [],
   "source": [
    "X_ = sel_features_.drop('Cooling Load', axis=1)\n",
    "y2_ = sel_features_['Cooling Load']"
   ]
  },
  {
   "cell_type": "code",
   "execution_count": 27,
   "metadata": {},
   "outputs": [
    {
     "data": {
      "text/plain": [
       "0.8470679021770635"
      ]
     },
     "execution_count": 27,
     "metadata": {},
     "output_type": "execute_result"
    }
   ],
   "source": [
    "X_train_, X_test_,y2_train_,y2_test_ = train_test_split(X_,y2_,test_size=0.25)\n",
    "model_4 = LinearRegression()\n",
    "model_4.fit(X_train_,y2_train_)\n",
    "model_4.score(X_test_, y2_test_)"
   ]
  },
  {
   "cell_type": "code",
   "execution_count": 28,
   "metadata": {},
   "outputs": [
    {
     "data": {
      "text/plain": [
       "array([17.65996281, 15.63938291, 15.63938291, 18.59398247, 17.65996281,\n",
       "       18.59398247, 30.17471584, 13.61880301, 34.33086398, 36.67530118])"
      ]
     },
     "execution_count": 28,
     "metadata": {},
     "output_type": "execute_result"
    }
   ],
   "source": [
    "pred_2 = model_4.predict(X_test_)\n",
    "pred_2[:10]"
   ]
  },
  {
   "cell_type": "code",
   "execution_count": 29,
   "metadata": {},
   "outputs": [
    {
     "name": "stdout",
     "output_type": "stream",
     "text": [
      "Accuracy obtained for model_4: 0.85\n",
      "Mean Absolute Error obtained for model_4: 2.83\n",
      "Mean Squared Error for model_4: 13.82\n",
      "Root Mean Squared Error obtained for model_4: 3.72\n"
     ]
    }
   ],
   "source": [
    "print(f\"Accuracy obtained for model_4: {r2_score(y2_test_,pred_2):.2f}\")\n",
    "print(f\"Mean Absolute Error obtained for model_4: {mean_absolute_error(y2_test_,pred_2):.2f}\")\n",
    "print(f\"Mean Squared Error for model_4: {mean_squared_error(y2_test_,pred_2):.2f}\")\n",
    "print(f\"Root Mean Squared Error obtained for model_4: {mean_squared_error(y2_test_,pred_2)**0.5:.2f}\")"
   ]
  }
 ],
 "metadata": {
  "kernelspec": {
   "display_name": "Python 3",
   "language": "python",
   "name": "python3"
  },
  "language_info": {
   "codemirror_mode": {
    "name": "ipython",
    "version": 3
   },
   "file_extension": ".py",
   "mimetype": "text/x-python",
   "name": "python",
   "nbconvert_exporter": "python",
   "pygments_lexer": "ipython3",
   "version": "3.8.8"
  }
 },
 "nbformat": 4,
 "nbformat_minor": 2
}
