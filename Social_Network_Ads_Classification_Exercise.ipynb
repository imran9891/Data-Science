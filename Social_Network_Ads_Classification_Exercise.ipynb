{
 "cells": [
  {
   "cell_type": "markdown",
   "metadata": {},
   "source": [
    "#### Social_Network_Ads ML Exercise\n",
    "\n",
    "1) Read the dataset 'Social_Network_Ads.csv'<br>\n",
    "2) Remove/handle null values<br>\n",
    "3) Considering 'Age' and 'Estimated Salary' as input features and 'Purchased' as output feature, generate the following models after splitting the dataset into training and test dataset with test_size as 25%.<br>\n",
    "a) Logistic Regression <br>\n",
    "b) Decision Tree <br>\n",
    "c) RandomForest <br>\n",
    "d) KNN<br>\n",
    "and predict the Purchased class label.<br>\n",
    "4) Generate confusion matrix and classification report for each of these models.<br> \n",
    "5) Compute Accuracy score for each of these models.<br>\n",
    "6) Scale(StandardScaler) the input features using feature Scaling and then repeat question 3, 4 and 5<br>"
   ]
  },
  {
   "cell_type": "code",
   "execution_count": 1,
   "metadata": {},
   "outputs": [],
   "source": [
    "# Import depenencies\n",
    "import pandas as pd\n",
    "import numpy as np\n",
    "import matplotlib.pyplot as plt"
   ]
  },
  {
   "cell_type": "code",
   "execution_count": 2,
   "metadata": {},
   "outputs": [
    {
     "data": {
      "text/html": [
       "<div>\n",
       "<style scoped>\n",
       "    .dataframe tbody tr th:only-of-type {\n",
       "        vertical-align: middle;\n",
       "    }\n",
       "\n",
       "    .dataframe tbody tr th {\n",
       "        vertical-align: top;\n",
       "    }\n",
       "\n",
       "    .dataframe thead th {\n",
       "        text-align: right;\n",
       "    }\n",
       "</style>\n",
       "<table border=\"1\" class=\"dataframe\">\n",
       "  <thead>\n",
       "    <tr style=\"text-align: right;\">\n",
       "      <th></th>\n",
       "      <th>User ID</th>\n",
       "      <th>Gender</th>\n",
       "      <th>Age</th>\n",
       "      <th>EstimatedSalary</th>\n",
       "      <th>Purchased</th>\n",
       "    </tr>\n",
       "  </thead>\n",
       "  <tbody>\n",
       "    <tr>\n",
       "      <th>0</th>\n",
       "      <td>15624510</td>\n",
       "      <td>Male</td>\n",
       "      <td>19</td>\n",
       "      <td>19000</td>\n",
       "      <td>0</td>\n",
       "    </tr>\n",
       "    <tr>\n",
       "      <th>1</th>\n",
       "      <td>15810944</td>\n",
       "      <td>Male</td>\n",
       "      <td>35</td>\n",
       "      <td>20000</td>\n",
       "      <td>0</td>\n",
       "    </tr>\n",
       "    <tr>\n",
       "      <th>2</th>\n",
       "      <td>15668575</td>\n",
       "      <td>Female</td>\n",
       "      <td>26</td>\n",
       "      <td>43000</td>\n",
       "      <td>0</td>\n",
       "    </tr>\n",
       "    <tr>\n",
       "      <th>3</th>\n",
       "      <td>15603246</td>\n",
       "      <td>Female</td>\n",
       "      <td>27</td>\n",
       "      <td>57000</td>\n",
       "      <td>0</td>\n",
       "    </tr>\n",
       "    <tr>\n",
       "      <th>4</th>\n",
       "      <td>15804002</td>\n",
       "      <td>Male</td>\n",
       "      <td>19</td>\n",
       "      <td>76000</td>\n",
       "      <td>0</td>\n",
       "    </tr>\n",
       "  </tbody>\n",
       "</table>\n",
       "</div>"
      ],
      "text/plain": [
       "    User ID  Gender  Age  EstimatedSalary  Purchased\n",
       "0  15624510    Male   19            19000          0\n",
       "1  15810944    Male   35            20000          0\n",
       "2  15668575  Female   26            43000          0\n",
       "3  15603246  Female   27            57000          0\n",
       "4  15804002    Male   19            76000          0"
      ]
     },
     "execution_count": 2,
     "metadata": {},
     "output_type": "execute_result"
    }
   ],
   "source": [
    "# 1. Read the dataset 'Social_Network_Ads.csv'\n",
    "df = pd.read_csv(\"Datasets/Social_Network_Ads.csv\")\n",
    "df.head()"
   ]
  },
  {
   "cell_type": "code",
   "execution_count": 3,
   "metadata": {},
   "outputs": [
    {
     "name": "stdout",
     "output_type": "stream",
     "text": [
      "<class 'pandas.core.frame.DataFrame'>\n",
      "RangeIndex: 400 entries, 0 to 399\n",
      "Data columns (total 5 columns):\n",
      " #   Column           Non-Null Count  Dtype \n",
      "---  ------           --------------  ----- \n",
      " 0   User ID          400 non-null    int64 \n",
      " 1   Gender           400 non-null    object\n",
      " 2   Age              400 non-null    int64 \n",
      " 3   EstimatedSalary  400 non-null    int64 \n",
      " 4   Purchased        400 non-null    int64 \n",
      "dtypes: int64(4), object(1)\n",
      "memory usage: 15.8+ KB\n"
     ]
    }
   ],
   "source": [
    "df.info()"
   ]
  },
  {
   "cell_type": "code",
   "execution_count": 4,
   "metadata": {},
   "outputs": [
    {
     "data": {
      "text/plain": [
       "User ID            0\n",
       "Gender             0\n",
       "Age                0\n",
       "EstimatedSalary    0\n",
       "Purchased          0\n",
       "dtype: int64"
      ]
     },
     "execution_count": 4,
     "metadata": {},
     "output_type": "execute_result"
    }
   ],
   "source": [
    "# 2. Remove/handle null values\n",
    "df.isna().sum()"
   ]
  },
  {
   "cell_type": "code",
   "execution_count": 5,
   "metadata": {},
   "outputs": [
    {
     "data": {
      "text/plain": [
       "((300, 2), (100, 2), (300,), (100,))"
      ]
     },
     "execution_count": 5,
     "metadata": {},
     "output_type": "execute_result"
    }
   ],
   "source": [
    "# 3) Considering 'Age' and 'Estimated Salary' as input features and 'Purchased' as output feature, generate the following\n",
    "# models after splitting the dataset into training and test dataset with test_size as 25%.\n",
    "from sklearn.model_selection import train_test_split\n",
    "X = df.drop([\"User ID\",\"Gender\",\"Purchased\"],axis=1)\n",
    "y = df.Purchased\n",
    "X_train,X_test,y_train,y_test = train_test_split(X,y,test_size=0.25)\n",
    "X_train.shape,X_test.shape,y_train.shape,y_test.shape"
   ]
  },
  {
   "cell_type": "code",
   "execution_count": 6,
   "metadata": {},
   "outputs": [
    {
     "name": "stdout",
     "output_type": "stream",
     "text": [
      "Logistic Regression Score: 61.0%\n",
      "Decision Trees Score: 86.0%\n",
      "Random Forest Score: 87.0%\n",
      "KNN Score: 78.0%\n"
     ]
    }
   ],
   "source": [
    "# a) Logistic Regression b) Decision Tree c) RandomForest d) KNN and predict the Purchased class label.\n",
    "from sklearn.linear_model import LogisticRegression\n",
    "from sklearn.tree import DecisionTreeClassifier\n",
    "from sklearn.ensemble import RandomForestClassifier\n",
    "from sklearn.neighbors import KNeighborsClassifier\n",
    "model_preds = {}\n",
    "models = {\"Logistic Regression\": LogisticRegression(),\n",
    "          \"Decision Trees\": DecisionTreeClassifier(),\n",
    "          \"Random Forest\": RandomForestClassifier(),\n",
    "          \"KNN\": KNeighborsClassifier()}\n",
    "for name, model in models.items():\n",
    "    model.fit(X_train,y_train)\n",
    "    model_preds[name] = model.predict(X_test)\n",
    "    score = model.score(X_test,y_test)\n",
    "    print(f\"{name} Score: {round(score*100,2)}%\")"
   ]
  },
  {
   "cell_type": "code",
   "execution_count": 7,
   "metadata": {},
   "outputs": [
    {
     "data": {
      "text/html": [
       "<div>\n",
       "<style scoped>\n",
       "    .dataframe tbody tr th:only-of-type {\n",
       "        vertical-align: middle;\n",
       "    }\n",
       "\n",
       "    .dataframe tbody tr th {\n",
       "        vertical-align: top;\n",
       "    }\n",
       "\n",
       "    .dataframe thead th {\n",
       "        text-align: right;\n",
       "    }\n",
       "</style>\n",
       "<table border=\"1\" class=\"dataframe\">\n",
       "  <thead>\n",
       "    <tr style=\"text-align: right;\">\n",
       "      <th></th>\n",
       "      <th>Logistic Regression</th>\n",
       "      <th>Decision Trees</th>\n",
       "      <th>Random Forest</th>\n",
       "      <th>KNN</th>\n",
       "    </tr>\n",
       "  </thead>\n",
       "  <tbody>\n",
       "    <tr>\n",
       "      <th>0</th>\n",
       "      <td>0</td>\n",
       "      <td>1</td>\n",
       "      <td>1</td>\n",
       "      <td>1</td>\n",
       "    </tr>\n",
       "    <tr>\n",
       "      <th>1</th>\n",
       "      <td>0</td>\n",
       "      <td>1</td>\n",
       "      <td>1</td>\n",
       "      <td>0</td>\n",
       "    </tr>\n",
       "    <tr>\n",
       "      <th>2</th>\n",
       "      <td>0</td>\n",
       "      <td>1</td>\n",
       "      <td>1</td>\n",
       "      <td>1</td>\n",
       "    </tr>\n",
       "    <tr>\n",
       "      <th>3</th>\n",
       "      <td>0</td>\n",
       "      <td>0</td>\n",
       "      <td>0</td>\n",
       "      <td>0</td>\n",
       "    </tr>\n",
       "    <tr>\n",
       "      <th>4</th>\n",
       "      <td>0</td>\n",
       "      <td>0</td>\n",
       "      <td>0</td>\n",
       "      <td>0</td>\n",
       "    </tr>\n",
       "  </tbody>\n",
       "</table>\n",
       "</div>"
      ],
      "text/plain": [
       "   Logistic Regression  Decision Trees  Random Forest  KNN\n",
       "0                    0               1              1    1\n",
       "1                    0               1              1    0\n",
       "2                    0               1              1    1\n",
       "3                    0               0              0    0\n",
       "4                    0               0              0    0"
      ]
     },
     "execution_count": 7,
     "metadata": {},
     "output_type": "execute_result"
    }
   ],
   "source": [
    "# Making a dataframe to store model predictions\n",
    "preds = pd.DataFrame(model_preds)\n",
    "preds.head()"
   ]
  },
  {
   "cell_type": "code",
   "execution_count": 8,
   "metadata": {},
   "outputs": [
    {
     "name": "stdout",
     "output_type": "stream",
     "text": [
      "For Logistic Regression:\n",
      "[[61  0]\n",
      " [39  0]]\n",
      "              precision    recall  f1-score   support\n",
      "\n",
      "           0       0.61      1.00      0.76        61\n",
      "           1       0.00      0.00      0.00        39\n",
      "\n",
      "    accuracy                           0.61       100\n",
      "   macro avg       0.30      0.50      0.38       100\n",
      "weighted avg       0.37      0.61      0.46       100\n",
      "\n",
      "\n",
      "For Decision Trees:\n",
      "[[54  7]\n",
      " [ 7 32]]\n",
      "              precision    recall  f1-score   support\n",
      "\n",
      "           0       0.89      0.89      0.89        61\n",
      "           1       0.82      0.82      0.82        39\n",
      "\n",
      "    accuracy                           0.86       100\n",
      "   macro avg       0.85      0.85      0.85       100\n",
      "weighted avg       0.86      0.86      0.86       100\n",
      "\n",
      "\n",
      "For Random Forest:\n",
      "[[54  7]\n",
      " [ 6 33]]\n",
      "              precision    recall  f1-score   support\n",
      "\n",
      "           0       0.90      0.89      0.89        61\n",
      "           1       0.82      0.85      0.84        39\n",
      "\n",
      "    accuracy                           0.87       100\n",
      "   macro avg       0.86      0.87      0.86       100\n",
      "weighted avg       0.87      0.87      0.87       100\n",
      "\n",
      "\n",
      "For KNN:\n",
      "[[55  6]\n",
      " [16 23]]\n",
      "              precision    recall  f1-score   support\n",
      "\n",
      "           0       0.77      0.90      0.83        61\n",
      "           1       0.79      0.59      0.68        39\n",
      "\n",
      "    accuracy                           0.78       100\n",
      "   macro avg       0.78      0.75      0.75       100\n",
      "weighted avg       0.78      0.78      0.77       100\n",
      "\n"
     ]
    },
    {
     "name": "stderr",
     "output_type": "stream",
     "text": [
      "C:\\Users\\Hp\\anaconda3\\lib\\site-packages\\sklearn\\metrics\\_classification.py:1245: UndefinedMetricWarning: Precision and F-score are ill-defined and being set to 0.0 in labels with no predicted samples. Use `zero_division` parameter to control this behavior.\n",
      "  _warn_prf(average, modifier, msg_start, len(result))\n",
      "C:\\Users\\Hp\\anaconda3\\lib\\site-packages\\sklearn\\metrics\\_classification.py:1245: UndefinedMetricWarning: Precision and F-score are ill-defined and being set to 0.0 in labels with no predicted samples. Use `zero_division` parameter to control this behavior.\n",
      "  _warn_prf(average, modifier, msg_start, len(result))\n",
      "C:\\Users\\Hp\\anaconda3\\lib\\site-packages\\sklearn\\metrics\\_classification.py:1245: UndefinedMetricWarning: Precision and F-score are ill-defined and being set to 0.0 in labels with no predicted samples. Use `zero_division` parameter to control this behavior.\n",
      "  _warn_prf(average, modifier, msg_start, len(result))\n"
     ]
    }
   ],
   "source": [
    "# 4. Generate confusion matrix and classification report for each of these models.\n",
    "from sklearn.metrics import confusion_matrix, classification_report\n",
    "conf_mat_lr = confusion_matrix(y_test,model_preds[\"Logistic Regression\"])\n",
    "conf_mat_dt = confusion_matrix(y_test,model_preds[\"Decision Trees\"])\n",
    "conf_mat_rf = confusion_matrix(y_test,model_preds[\"Random Forest\"])\n",
    "conf_mat_knn = confusion_matrix(y_test,model_preds[\"KNN\"])\n",
    "\n",
    "print(f\"For Logistic Regression:\\n{conf_mat_lr}\")\n",
    "print(classification_report(y_test,model_preds[\"Logistic Regression\"]))\n",
    "print(f\"\\nFor Decision Trees:\\n{conf_mat_dt}\")\n",
    "print(classification_report(y_test,model_preds[\"Decision Trees\"]))\n",
    "print(f\"\\nFor Random Forest:\\n{conf_mat_rf}\")\n",
    "print(classification_report(y_test,model_preds[\"Random Forest\"]))\n",
    "print(f\"\\nFor KNN:\\n{conf_mat_knn}\")\n",
    "print(classification_report(y_test,model_preds[\"KNN\"]))"
   ]
  },
  {
   "cell_type": "code",
   "execution_count": 9,
   "metadata": {},
   "outputs": [],
   "source": [
    "# 6. Scale(StandardScaler) the input features using feature Scaling and then repeat question 3, 4 and 5\n",
    "from sklearn.preprocessing import StandardScaler\n",
    "sc = StandardScaler()\n",
    "X_train = sc.fit_transform(X_train)\n",
    "X_test = sc.transform(X_test)"
   ]
  },
  {
   "cell_type": "code",
   "execution_count": 10,
   "metadata": {},
   "outputs": [
    {
     "name": "stdout",
     "output_type": "stream",
     "text": [
      "Logistic Regression Score: 80.0%\n",
      "Decision Trees Score: 85.0%\n",
      "Random Forest Score: 87.0%\n",
      "KNN Score: 88.0%\n"
     ]
    }
   ],
   "source": [
    "# Refit a) Logistic Regression b) Decision Tree c) RandomForest d) KNN and predict the Purchased class label.\n",
    "model_preds_2 = {}\n",
    "models_2 = {\"Logistic Regression\": LogisticRegression(),\n",
    "          \"Decision Trees\": DecisionTreeClassifier(),\n",
    "          \"Random Forest\": RandomForestClassifier(),\n",
    "          \"KNN\": KNeighborsClassifier()}\n",
    "for name, model in models_2.items():\n",
    "    model.fit(X_train,y_train)\n",
    "    model_preds_2[name] = model.predict(X_test)\n",
    "    score = model.score(X_test,y_test)\n",
    "    print(f\"{name} Score: {round(score*100,2)}%\")"
   ]
  },
  {
   "cell_type": "code",
   "execution_count": 11,
   "metadata": {},
   "outputs": [
    {
     "data": {
      "text/html": [
       "<div>\n",
       "<style scoped>\n",
       "    .dataframe tbody tr th:only-of-type {\n",
       "        vertical-align: middle;\n",
       "    }\n",
       "\n",
       "    .dataframe tbody tr th {\n",
       "        vertical-align: top;\n",
       "    }\n",
       "\n",
       "    .dataframe thead th {\n",
       "        text-align: right;\n",
       "    }\n",
       "</style>\n",
       "<table border=\"1\" class=\"dataframe\">\n",
       "  <thead>\n",
       "    <tr style=\"text-align: right;\">\n",
       "      <th></th>\n",
       "      <th>Logistic Regression</th>\n",
       "      <th>Decision Trees</th>\n",
       "      <th>Random Forest</th>\n",
       "      <th>KNN</th>\n",
       "    </tr>\n",
       "  </thead>\n",
       "  <tbody>\n",
       "    <tr>\n",
       "      <th>0</th>\n",
       "      <td>1</td>\n",
       "      <td>1</td>\n",
       "      <td>1</td>\n",
       "      <td>1</td>\n",
       "    </tr>\n",
       "    <tr>\n",
       "      <th>1</th>\n",
       "      <td>0</td>\n",
       "      <td>1</td>\n",
       "      <td>1</td>\n",
       "      <td>1</td>\n",
       "    </tr>\n",
       "    <tr>\n",
       "      <th>2</th>\n",
       "      <td>1</td>\n",
       "      <td>1</td>\n",
       "      <td>1</td>\n",
       "      <td>1</td>\n",
       "    </tr>\n",
       "    <tr>\n",
       "      <th>3</th>\n",
       "      <td>0</td>\n",
       "      <td>0</td>\n",
       "      <td>0</td>\n",
       "      <td>0</td>\n",
       "    </tr>\n",
       "    <tr>\n",
       "      <th>4</th>\n",
       "      <td>0</td>\n",
       "      <td>0</td>\n",
       "      <td>0</td>\n",
       "      <td>1</td>\n",
       "    </tr>\n",
       "  </tbody>\n",
       "</table>\n",
       "</div>"
      ],
      "text/plain": [
       "   Logistic Regression  Decision Trees  Random Forest  KNN\n",
       "0                    1               1              1    1\n",
       "1                    0               1              1    1\n",
       "2                    1               1              1    1\n",
       "3                    0               0              0    0\n",
       "4                    0               0              0    1"
      ]
     },
     "execution_count": 11,
     "metadata": {},
     "output_type": "execute_result"
    }
   ],
   "source": [
    "# Making a dataframe to store model predictions\n",
    "preds_2 = pd.DataFrame(model_preds_2)\n",
    "preds_2.head()"
   ]
  },
  {
   "cell_type": "code",
   "execution_count": 12,
   "metadata": {},
   "outputs": [
    {
     "name": "stdout",
     "output_type": "stream",
     "text": [
      "For Logistic Regression:\n",
      "[[55  6]\n",
      " [14 25]]\n",
      "              precision    recall  f1-score   support\n",
      "\n",
      "           0       0.80      0.90      0.85        61\n",
      "           1       0.81      0.64      0.71        39\n",
      "\n",
      "    accuracy                           0.80       100\n",
      "   macro avg       0.80      0.77      0.78       100\n",
      "weighted avg       0.80      0.80      0.79       100\n",
      "\n",
      "\n",
      "For Decision Trees:\n",
      "[[54  7]\n",
      " [ 8 31]]\n",
      "              precision    recall  f1-score   support\n",
      "\n",
      "           0       0.87      0.89      0.88        61\n",
      "           1       0.82      0.79      0.81        39\n",
      "\n",
      "    accuracy                           0.85       100\n",
      "   macro avg       0.84      0.84      0.84       100\n",
      "weighted avg       0.85      0.85      0.85       100\n",
      "\n",
      "\n",
      "For Random Forest:\n",
      "[[54  7]\n",
      " [ 6 33]]\n",
      "              precision    recall  f1-score   support\n",
      "\n",
      "           0       0.90      0.89      0.89        61\n",
      "           1       0.82      0.85      0.84        39\n",
      "\n",
      "    accuracy                           0.87       100\n",
      "   macro avg       0.86      0.87      0.86       100\n",
      "weighted avg       0.87      0.87      0.87       100\n",
      "\n",
      "\n",
      "For KNN:\n",
      "[[54  7]\n",
      " [ 5 34]]\n",
      "              precision    recall  f1-score   support\n",
      "\n",
      "           0       0.92      0.89      0.90        61\n",
      "           1       0.83      0.87      0.85        39\n",
      "\n",
      "    accuracy                           0.88       100\n",
      "   macro avg       0.87      0.88      0.88       100\n",
      "weighted avg       0.88      0.88      0.88       100\n",
      "\n"
     ]
    }
   ],
   "source": [
    "# Repeating confusion matrix and classification report for each of these models.\n",
    "conf_mat_lr_2 = confusion_matrix(y_test,model_preds_2[\"Logistic Regression\"])\n",
    "conf_mat_dt_2 = confusion_matrix(y_test,model_preds_2[\"Decision Trees\"])\n",
    "conf_mat_rf_2 = confusion_matrix(y_test,model_preds_2[\"Random Forest\"])\n",
    "conf_mat_knn_2 = confusion_matrix(y_test,model_preds_2[\"KNN\"])\n",
    "\n",
    "print(f\"For Logistic Regression:\\n{conf_mat_lr_2}\")\n",
    "print(classification_report(y_test,model_preds_2[\"Logistic Regression\"]))\n",
    "print(f\"\\nFor Decision Trees:\\n{conf_mat_dt_2}\")\n",
    "print(classification_report(y_test,model_preds_2[\"Decision Trees\"]))\n",
    "print(f\"\\nFor Random Forest:\\n{conf_mat_rf_2}\")\n",
    "print(classification_report(y_test,model_preds_2[\"Random Forest\"]))\n",
    "print(f\"\\nFor KNN:\\n{conf_mat_knn_2}\")\n",
    "print(classification_report(y_test,model_preds_2[\"KNN\"]))"
   ]
  }
 ],
 "metadata": {
  "kernelspec": {
   "display_name": "Python 3",
   "language": "python",
   "name": "python3"
  },
  "language_info": {
   "codemirror_mode": {
    "name": "ipython",
    "version": 3
   },
   "file_extension": ".py",
   "mimetype": "text/x-python",
   "name": "python",
   "nbconvert_exporter": "python",
   "pygments_lexer": "ipython3",
   "version": "3.8.8"
  }
 },
 "nbformat": 4,
 "nbformat_minor": 2
}
