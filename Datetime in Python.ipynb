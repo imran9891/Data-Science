{
 "cells": [
  {
   "cell_type": "markdown",
   "metadata": {},
   "source": [
    "### Datetime in Python"
   ]
  },
  {
   "cell_type": "code",
   "execution_count": null,
   "metadata": {},
   "outputs": [],
   "source": [
    "import datetime as dt"
   ]
  },
  {
   "cell_type": "markdown",
   "metadata": {},
   "source": [
    "#### Today's date, year, month"
   ]
  },
  {
   "cell_type": "code",
   "execution_count": null,
   "metadata": {},
   "outputs": [],
   "source": [
    "today = dt.date.today() # YYYY-MM-DD\n",
    "today_year = dt.date.today().year\n",
    "today_date = dt.date.today().day\n",
    "today_month = dt.date.today().month\n",
    "print(today)\n",
    "print(today_year)\n",
    "print(today_date)\n",
    "print(today_month)"
   ]
  },
  {
   "cell_type": "markdown",
   "metadata": {},
   "source": [
    "#### datetime - year, month, day, hour, minute, second, microsecond"
   ]
  },
  {
   "cell_type": "code",
   "execution_count": null,
   "metadata": {},
   "outputs": [],
   "source": [
    "t1 = dt.datetime.today() # YYYY-MM-DD HH:MM:SS.ssssss\n",
    "t2 = dt.datetime.today().year\n",
    "t3 = dt.datetime.today().month\n",
    "t4 = dt.datetime.today().day\n",
    "t5 = dt.datetime.today().hour\n",
    "t6 = dt.datetime.today().minute\n",
    "t7 = dt.datetime.today().second\n",
    "t8 = dt.datetime.today().microsecond\n",
    "print(t1)\n",
    "print(t2)\n",
    "print(t3)\n",
    "print(t4)\n",
    "print(t5)\n",
    "print(t6)\n",
    "print(t7)\n",
    "print(t8)"
   ]
  },
  {
   "cell_type": "markdown",
   "metadata": {},
   "source": [
    "### Custom date and time"
   ]
  },
  {
   "cell_type": "code",
   "execution_count": null,
   "metadata": {},
   "outputs": [],
   "source": [
    "req_date = dt.datetime(year=2021,month=3,day=23,hour=5,minute=30,\n",
    "                       second=45,microsecond=32443)\n",
    "print(req_date)\n",
    "type(req_date)"
   ]
  },
  {
   "cell_type": "code",
   "execution_count": null,
   "metadata": {},
   "outputs": [],
   "source": [
    "a1 = dt.datetime(year=2019,month=11,day=18)\n",
    "a2 = dt.datetime(year=2019,month=11,day=18,hour=6,minute=12)\n",
    "print(a1)\n",
    "print(a2)"
   ]
  },
  {
   "cell_type": "code",
   "execution_count": null,
   "metadata": {},
   "outputs": [],
   "source": [
    "a = dt.datetime(2021,4,14,15,14,45)\n",
    "print(a)"
   ]
  },
  {
   "cell_type": "code",
   "execution_count": null,
   "metadata": {},
   "outputs": [],
   "source": [
    "req_date = dt.date(year=2032,month=10,day=13)\n",
    "start_date = dt.date(2010,3,2)\n",
    "print(req_date)\n",
    "print(start_date)\n",
    "type(req_date)"
   ]
  },
  {
   "cell_type": "code",
   "execution_count": null,
   "metadata": {},
   "outputs": [],
   "source": [
    "from datetime import time"
   ]
  },
  {
   "cell_type": "code",
   "execution_count": null,
   "metadata": {},
   "outputs": [],
   "source": [
    "req_time = time(hour=9,minute=30,second=36,microsecond=123456)\n",
    "null_time = time()\n",
    "print(req_time)\n",
    "print(null_time)\n",
    "type(req_time)"
   ]
  },
  {
   "cell_type": "markdown",
   "metadata": {},
   "source": [
    "#### Addition and Subtraction of date and time"
   ]
  },
  {
   "cell_type": "code",
   "execution_count": null,
   "metadata": {},
   "outputs": [],
   "source": [
    "from datetime import timedelta as td"
   ]
  },
  {
   "cell_type": "markdown",
   "metadata": {},
   "source": [
    "#### What is the date and time 2 days, 3 hours, 15 minutes and 45 sec ahead from now?"
   ]
  },
  {
   "cell_type": "code",
   "execution_count": null,
   "metadata": {},
   "outputs": [],
   "source": [
    "curr_date_time = dt.datetime.today()\n",
    "print(curr_date_time)\n",
    "\n",
    "time_diff = td(days=2,hours=3,minutes=15,seconds=45)\n",
    "print(time_diff)\n",
    "# Add time diff to the current time\n",
    "req_date_time = curr_date_time + time_diff\n",
    "\n",
    "print(req_date_time)"
   ]
  },
  {
   "cell_type": "markdown",
   "metadata": {},
   "source": [
    "#### What is date and time 2 weeks, 4 days, 6 hrs, 27 mins and 45 sec from now?"
   ]
  },
  {
   "cell_type": "code",
   "execution_count": null,
   "metadata": {},
   "outputs": [],
   "source": [
    "curr_date_time = dt.datetime.today()\n",
    "print(curr_date_time)\n",
    "\n",
    "time_diff = td(weeks=2,days=4,hours=6,minutes=27,seconds=45)\n",
    "print(time_diff)\n",
    "# Add time diff to the current time\n",
    "req_date_time = curr_date_time + time_diff\n",
    "\n",
    "print(req_date_time)"
   ]
  },
  {
   "cell_type": "markdown",
   "metadata": {},
   "source": [
    "#### What is the date and time 1 week and 3 days before 2019 June 1, 9 AM?"
   ]
  },
  {
   "cell_type": "code",
   "execution_count": null,
   "metadata": {},
   "outputs": [],
   "source": [
    "base_date_time = dt.datetime(year=2019,month=6,day=1,hour=9)\n",
    "print(base_date_time)\n",
    "\n",
    "time_diff = td(weeks=-1,days=-3)\n",
    "print(time_diff)\n",
    "# Subtract time diff to the current time\n",
    "req_date_time = base_date_time + time_diff\n",
    "\n",
    "print(req_date_time)"
   ]
  },
  {
   "cell_type": "code",
   "execution_count": null,
   "metadata": {},
   "outputs": [],
   "source": [
    "base_date_time = dt.datetime(year=2019,month=6,day=1,hour=9)\n",
    "print(base_date_time)\n",
    "\n",
    "time_diff = td(weeks=1,days=3)\n",
    "print(time_diff)\n",
    "# Subtract time diff to the current time\n",
    "req_date_time = base_date_time - time_diff\n",
    "\n",
    "print(req_date_time)"
   ]
  },
  {
   "cell_type": "markdown",
   "metadata": {},
   "source": [
    "#### What is the date and time 2 weeks,4 days, 100 hrs, 27 mins and 45 sec from now?"
   ]
  },
  {
   "cell_type": "code",
   "execution_count": null,
   "metadata": {},
   "outputs": [],
   "source": [
    "curr_date_time = dt.datetime.today()\n",
    "print(curr_date_time)\n",
    "\n",
    "time_diff = td(weeks=2,days=4,hours=100,minutes=27,seconds=45)\n",
    "print(time_diff)\n",
    "# Add time diff to the current time\n",
    "req_date_time = curr_date_time + time_diff\n",
    "\n",
    "print(req_date_time)"
   ]
  },
  {
   "cell_type": "markdown",
   "metadata": {},
   "source": [
    "### String formats\n",
    "1) %Y - Year (in YYYY format) - eg 2021<br>\n",
    "2) %y - Year (in YY format)  - eg - 21<br>\n",
    "3) %B - Month(full name - March)<br>\n",
    "4) %b - Month(three letters of the month- Mar)<br>\n",
    "5) %A - Weekday full name (Thursday)<br>\n",
    "6) %a - Weekday Short name (Thu)<br>\n",
    "7) %d - Day of month(1-31)<br>\n",
    "8) %w - weekday number (0-Sun, 6-Sat)<br>\n",
    "9) %m - month(01-Jan, 12-Dec)<br>\n",
    "10) %H - Hour<br>\n",
    "11) %M - Minute<br>\n",
    "12) %S - Second"
   ]
  },
  {
   "cell_type": "markdown",
   "metadata": {},
   "source": [
    "### Changing date time formats\n",
    "\n",
    "<b>strptime</b> - converts string to datetime format<br>\n",
    "<b>strftime</b> - converts datetime to string format"
   ]
  },
  {
   "cell_type": "code",
   "execution_count": null,
   "metadata": {},
   "outputs": [],
   "source": [
    "import datetime as dt\n",
    "from datetime import time\n",
    "from datetime import timedelta as td"
   ]
  },
  {
   "cell_type": "code",
   "execution_count": null,
   "metadata": {},
   "outputs": [],
   "source": [
    "x = dt.datetime(2021,7,14,11,1,30,12345)  # 2021-07-14 11:01:30.012345\n",
    "print(x)\n",
    "# type(x)\n",
    "print(x.strftime(\"%y-%d-%m %H:%M:%S\"))\n",
    "date_str = x.strftime(\"%y-%d-%m %A %H:%M:%S\")\n",
    "print(date_str)\n",
    "print(x.strftime(\"%Y %m %d %H:%M:%S\"))\n",
    "print(x.strftime(\"%Y %B %d %H:%M:%S\"))\n",
    "print(x.strftime(\"%d %b %Y %H:%M:%S\"))\n",
    "print(x.strftime(\"%Y/%m/%d %H:%M:%S\"))\n",
    "type(date_str)\n"
   ]
  },
  {
   "cell_type": "code",
   "execution_count": null,
   "metadata": {},
   "outputs": [],
   "source": [
    "x = dt.datetime(2018, 9, 15, 17, 45, 35)\n",
    "print(x)\n",
    "print('--------------')\n",
    "\n",
    "print(x.strftime(\"%Y %m %d %H %M %S\"))\n",
    "print(x.strftime(\"%Y %d %b %H %M %S\"))\n",
    "print(x.strftime(\"%B %d %y %A %H %M %S\"))\n",
    "print(x.strftime(\"%b-%d-%Y %a %H:%M:%S\"))\n",
    "print(x.strftime(\"%B/%d/%Y %H-%M-%S\"))\n",
    "print(dt.datetime(2021, 5, 22, 12, 45, 35).strftime(\"%y %d %m\"))\n",
    "type(dt.datetime(2021, 7, 11, 12, 45, 35).strftime(\"%y %d %m\"))"
   ]
  },
  {
   "cell_type": "code",
   "execution_count": null,
   "metadata": {},
   "outputs": [],
   "source": [
    "string = \"19 Nov 2015 18:45:00\"\n",
    "d1 = dt.datetime.strptime(string, \"%d %b %Y %H:%M:%S\")\n",
    "print(d1)\n",
    "type(d1)"
   ]
  },
  {
   "cell_type": "code",
   "execution_count": null,
   "metadata": {},
   "outputs": [],
   "source": [
    "string = \"Jan 1 2001 18:45:00\"\n",
    "d1 = dt.datetime.strptime(string, \"%b %d %Y %H:%M:%S\")\n",
    "print(d1)\n",
    "type(d1)"
   ]
  },
  {
   "cell_type": "code",
   "execution_count": null,
   "metadata": {},
   "outputs": [],
   "source": [
    "string = \"19 Nov 2015 18:45:00\"\n",
    "d1 = dt.datetime.strptime(string, \"%d %Y %b %H:%M:%S\")\n",
    "print(d1)\n",
    "type(d1)"
   ]
  },
  {
   "cell_type": "code",
   "execution_count": null,
   "metadata": {},
   "outputs": [],
   "source": [
    "dt_string = \"January 15 2045\"\n",
    "\n",
    "dt1 = dt.datetime.strptime(dt_string, \"%A %b %d\")\n",
    "print(dt1)"
   ]
  },
  {
   "cell_type": "code",
   "execution_count": null,
   "metadata": {},
   "outputs": [],
   "source": [
    "dt_string = \"Aug 1 19\"\n",
    "\n",
    "dt1 = dt.datetime.strptime(dt_string, \"%b %d %y\")\n",
    "print(dt1)"
   ]
  },
  {
   "cell_type": "code",
   "execution_count": null,
   "metadata": {},
   "outputs": [],
   "source": [
    "dt_string = \"2021 Mar 30\"\n",
    "\n",
    "dt1 = dt.datetime.strptime(dt_string, \"%Y %b %d\")\n",
    "print(dt1)"
   ]
  },
  {
   "cell_type": "code",
   "execution_count": null,
   "metadata": {},
   "outputs": [],
   "source": [
    "dt_string = \"2021 Tue 3 30\"\n",
    "\n",
    "dt1 = dt.datetime.strptime(dt_string, \"%Y %a %m %d\")\n",
    "print(dt1)\n",
    "dt2 = dt1.strftime(\"%Y-%m-%d\")\n",
    "print(dt2)"
   ]
  },
  {
   "cell_type": "markdown",
   "metadata": {},
   "source": [
    "#### Q) Accept year-month-day from user as user input, covert it to datetime format and then parse it in the format weekdayname, month_fullname, year"
   ]
  },
  {
   "cell_type": "code",
   "execution_count": null,
   "metadata": {},
   "outputs": [],
   "source": [
    "d = input('Enter date separated by - : ')\n",
    "print(d)\n",
    "r = dt.datetime.strptime(d, \"%Y-%m-%d\")\n",
    "print(r)\n",
    "res = r.strftime(\"%A %B %Y\")\n",
    "print(res)"
   ]
  },
  {
   "cell_type": "markdown",
   "metadata": {},
   "source": [
    "### Practice Exercise\n",
    "\n",
    "1) Accept a date from the user in the format YYYY MM DD. Return the date in the format :\n",
    "Weekdayname Date Month_Fullname Year<br>\n",
    "<b>Sample Input</b><br>\n",
    "2017 3 28<br>\n",
    "<b>Sample Output</b><br>\n",
    "Tuesday 28 March 2017\n",
    "\n",
    "2) Accept a date from the user in the format YYYY MM DD. Add 6 weeks, 19 days, 6 hours, 39 minutes to any date and return the added date \n",
    "\n",
    "3) Accept a date from the user in the format YY/DD/MM. Subtract 2 weeks, 5 days, 3 hours, 24 minutes from the user input date and return the added date. \n",
    "The output should be in the format \"MonthFullname-YYYY-WeekdayName-date\""
   ]
  }
 ],
 "metadata": {
  "kernelspec": {
   "display_name": "Python 3",
   "language": "python",
   "name": "python3"
  },
  "language_info": {
   "codemirror_mode": {
    "name": "ipython",
    "version": 3
   },
   "file_extension": ".py",
   "mimetype": "text/x-python",
   "name": "python",
   "nbconvert_exporter": "python",
   "pygments_lexer": "ipython3",
   "version": "3.8.8"
  }
 },
 "nbformat": 4,
 "nbformat_minor": 2
}
