{
 "cells": [
  {
   "cell_type": "code",
   "execution_count": 1,
   "id": "1aacc1df",
   "metadata": {
    "id": "1aacc1df"
   },
   "outputs": [],
   "source": [
    "# Import dependencies\n",
    "import pandas as pd\n",
    "import numpy as np\n",
    "import matplotlib.pyplot as plt\n",
    "from sklearn.metrics import confusion_matrix,classification_report\n",
    "from sklearn.model_selection import train_test_split\n",
    "from sklearn.ensemble import AdaBoostClassifier"
   ]
  },
  {
   "cell_type": "markdown",
   "id": "7e2df013",
   "metadata": {},
   "source": [
    "## Column Description\n",
    " \n",
    "* HAEMATOCRIT - Patient laboratory test result of haematocrit\n",
    "* HAEMOGLOBINS- Patient laboratory test result of haemoglobins\n",
    "* ERYTHROCYTE - Patient laboratory test result of erythrocyte\n",
    "* LEUCOCYTE- Patient laboratory test result of leucocyte\n",
    "* THROMBOCYTE - Patient laboratory test result of thrombocyte\n",
    "* MCH - Patient laboratory test result of MCH\n",
    "* MCHC - Patient laboratory test result of MCHC\n",
    "* MCV - Patient laboratory test result of MCV\n",
    "* AGE - Patient age\n",
    "* SEX - Patient gender\n",
    "* SOURCE{in,out} - The class target in.= in care patient, out = out care patient"
   ]
  },
  {
   "cell_type": "code",
   "execution_count": 2,
   "id": "baaef2cb",
   "metadata": {
    "colab": {
     "base_uri": "https://localhost:8080/",
     "height": 180
    },
    "executionInfo": {
     "elapsed": 18,
     "status": "error",
     "timestamp": 1632417348691,
     "user": {
      "displayName": "Sushil Ritinjali",
      "photoUrl": "https://lh3.googleusercontent.com/a-/AOh14Gg0FtfRkyZ3hBcC1aJf1UGxK_dKF2LOrJA18mipiQ=s64",
      "userId": "11474575913434044925"
     },
     "user_tz": -330
    },
    "id": "baaef2cb",
    "outputId": "545e6749-5c75-484b-a1a7-79fea46fee8a"
   },
   "outputs": [
    {
     "data": {
      "text/html": [
       "<div>\n",
       "<style scoped>\n",
       "    .dataframe tbody tr th:only-of-type {\n",
       "        vertical-align: middle;\n",
       "    }\n",
       "\n",
       "    .dataframe tbody tr th {\n",
       "        vertical-align: top;\n",
       "    }\n",
       "\n",
       "    .dataframe thead th {\n",
       "        text-align: right;\n",
       "    }\n",
       "</style>\n",
       "<table border=\"1\" class=\"dataframe\">\n",
       "  <thead>\n",
       "    <tr style=\"text-align: right;\">\n",
       "      <th></th>\n",
       "      <th>HAEMATOCRIT</th>\n",
       "      <th>HAEMOGLOBINS</th>\n",
       "      <th>ERYTHROCYTE</th>\n",
       "      <th>LEUCOCYTE</th>\n",
       "      <th>THROMBOCYTE</th>\n",
       "      <th>MCH</th>\n",
       "      <th>MCHC</th>\n",
       "      <th>MCV</th>\n",
       "      <th>AGE</th>\n",
       "      <th>SEX</th>\n",
       "      <th>SOURCE</th>\n",
       "    </tr>\n",
       "  </thead>\n",
       "  <tbody>\n",
       "    <tr>\n",
       "      <th>0</th>\n",
       "      <td>35.1</td>\n",
       "      <td>11.8</td>\n",
       "      <td>4.65</td>\n",
       "      <td>6.3</td>\n",
       "      <td>310</td>\n",
       "      <td>25.4</td>\n",
       "      <td>33.6</td>\n",
       "      <td>75.5</td>\n",
       "      <td>1</td>\n",
       "      <td>F</td>\n",
       "      <td>out</td>\n",
       "    </tr>\n",
       "    <tr>\n",
       "      <th>1</th>\n",
       "      <td>43.5</td>\n",
       "      <td>14.8</td>\n",
       "      <td>5.39</td>\n",
       "      <td>12.7</td>\n",
       "      <td>334</td>\n",
       "      <td>27.5</td>\n",
       "      <td>34.0</td>\n",
       "      <td>80.7</td>\n",
       "      <td>1</td>\n",
       "      <td>F</td>\n",
       "      <td>out</td>\n",
       "    </tr>\n",
       "    <tr>\n",
       "      <th>2</th>\n",
       "      <td>33.5</td>\n",
       "      <td>11.3</td>\n",
       "      <td>4.74</td>\n",
       "      <td>13.2</td>\n",
       "      <td>305</td>\n",
       "      <td>23.8</td>\n",
       "      <td>33.7</td>\n",
       "      <td>70.7</td>\n",
       "      <td>1</td>\n",
       "      <td>F</td>\n",
       "      <td>out</td>\n",
       "    </tr>\n",
       "    <tr>\n",
       "      <th>3</th>\n",
       "      <td>39.1</td>\n",
       "      <td>13.7</td>\n",
       "      <td>4.98</td>\n",
       "      <td>10.5</td>\n",
       "      <td>366</td>\n",
       "      <td>27.5</td>\n",
       "      <td>35.0</td>\n",
       "      <td>78.5</td>\n",
       "      <td>1</td>\n",
       "      <td>F</td>\n",
       "      <td>out</td>\n",
       "    </tr>\n",
       "    <tr>\n",
       "      <th>4</th>\n",
       "      <td>30.9</td>\n",
       "      <td>9.9</td>\n",
       "      <td>4.23</td>\n",
       "      <td>22.1</td>\n",
       "      <td>333</td>\n",
       "      <td>23.4</td>\n",
       "      <td>32.0</td>\n",
       "      <td>73.0</td>\n",
       "      <td>1</td>\n",
       "      <td>M</td>\n",
       "      <td>out</td>\n",
       "    </tr>\n",
       "  </tbody>\n",
       "</table>\n",
       "</div>"
      ],
      "text/plain": [
       "   HAEMATOCRIT  HAEMOGLOBINS  ERYTHROCYTE  LEUCOCYTE  THROMBOCYTE   MCH  MCHC  \\\n",
       "0         35.1          11.8         4.65        6.3          310  25.4  33.6   \n",
       "1         43.5          14.8         5.39       12.7          334  27.5  34.0   \n",
       "2         33.5          11.3         4.74       13.2          305  23.8  33.7   \n",
       "3         39.1          13.7         4.98       10.5          366  27.5  35.0   \n",
       "4         30.9           9.9         4.23       22.1          333  23.4  32.0   \n",
       "\n",
       "    MCV  AGE SEX SOURCE  \n",
       "0  75.5    1   F    out  \n",
       "1  80.7    1   F    out  \n",
       "2  70.7    1   F    out  \n",
       "3  78.5    1   F    out  \n",
       "4  73.0    1   M    out  "
      ]
     },
     "execution_count": 2,
     "metadata": {},
     "output_type": "execute_result"
    }
   ],
   "source": [
    "df = pd.read_csv('./Datasets/patients_data.csv')\n",
    "df.head()"
   ]
  },
  {
   "cell_type": "code",
   "execution_count": 3,
   "id": "c926157d",
   "metadata": {
    "id": "c926157d",
    "outputId": "7c3daaa5-fe6a-4cb6-bc0b-7e1a19848de2"
   },
   "outputs": [
    {
     "data": {
      "text/plain": [
       "HAEMATOCRIT     0\n",
       "HAEMOGLOBINS    0\n",
       "ERYTHROCYTE     0\n",
       "LEUCOCYTE       0\n",
       "THROMBOCYTE     0\n",
       "MCH             0\n",
       "MCHC            0\n",
       "MCV             0\n",
       "AGE             0\n",
       "SEX             0\n",
       "SOURCE          0\n",
       "dtype: int64"
      ]
     },
     "execution_count": 3,
     "metadata": {},
     "output_type": "execute_result"
    }
   ],
   "source": [
    "# Checking for null values\n",
    "df.isnull().sum()"
   ]
  },
  {
   "cell_type": "code",
   "execution_count": 4,
   "id": "d0fe8876",
   "metadata": {
    "id": "d0fe8876",
    "outputId": "633ebb79-493b-45d4-bc39-b9e06a327df4"
   },
   "outputs": [
    {
     "data": {
      "text/plain": [
       "M    2290\n",
       "F    2122\n",
       "Name: SEX, dtype: int64"
      ]
     },
     "execution_count": 4,
     "metadata": {},
     "output_type": "execute_result"
    }
   ],
   "source": [
    "df['SEX'].value_counts()"
   ]
  },
  {
   "cell_type": "code",
   "execution_count": 5,
   "id": "8111311e",
   "metadata": {
    "id": "8111311e"
   },
   "outputs": [],
   "source": [
    "df['SEX'] = df['SEX'].replace({'M':0,'F':1}) # Male: 0, Female:1"
   ]
  },
  {
   "cell_type": "code",
   "execution_count": 6,
   "id": "be4990b6",
   "metadata": {
    "id": "be4990b6",
    "outputId": "1ea25af1-7d1c-4be0-d6ef-86c0cb3a36ec"
   },
   "outputs": [
    {
     "data": {
      "text/plain": [
       "0    2290\n",
       "1    2122\n",
       "Name: SEX, dtype: int64"
      ]
     },
     "execution_count": 6,
     "metadata": {},
     "output_type": "execute_result"
    }
   ],
   "source": [
    "df['SEX'].value_counts()"
   ]
  },
  {
   "cell_type": "code",
   "execution_count": 7,
   "id": "fa8ddf58",
   "metadata": {
    "id": "fa8ddf58",
    "outputId": "56bf11c3-7d56-422e-fae8-5a5de9176883"
   },
   "outputs": [
    {
     "name": "stdout",
     "output_type": "stream",
     "text": [
      "(4412, 10)\n",
      "(4412,)\n"
     ]
    }
   ],
   "source": [
    "x = df.iloc[:,:-1]\n",
    "y = df.iloc[:,-1]\n",
    "print(x.shape)\n",
    "print(y.shape)"
   ]
  },
  {
   "cell_type": "code",
   "execution_count": 8,
   "id": "6422b105",
   "metadata": {
    "id": "6422b105",
    "outputId": "2768bec6-e93e-4cb6-dd87-ae825dcb9398"
   },
   "outputs": [
    {
     "data": {
      "text/html": [
       "<div>\n",
       "<style scoped>\n",
       "    .dataframe tbody tr th:only-of-type {\n",
       "        vertical-align: middle;\n",
       "    }\n",
       "\n",
       "    .dataframe tbody tr th {\n",
       "        vertical-align: top;\n",
       "    }\n",
       "\n",
       "    .dataframe thead th {\n",
       "        text-align: right;\n",
       "    }\n",
       "</style>\n",
       "<table border=\"1\" class=\"dataframe\">\n",
       "  <thead>\n",
       "    <tr style=\"text-align: right;\">\n",
       "      <th></th>\n",
       "      <th>HAEMATOCRIT</th>\n",
       "      <th>HAEMOGLOBINS</th>\n",
       "      <th>ERYTHROCYTE</th>\n",
       "      <th>LEUCOCYTE</th>\n",
       "      <th>THROMBOCYTE</th>\n",
       "      <th>MCH</th>\n",
       "      <th>MCHC</th>\n",
       "      <th>MCV</th>\n",
       "      <th>AGE</th>\n",
       "      <th>SEX</th>\n",
       "    </tr>\n",
       "  </thead>\n",
       "  <tbody>\n",
       "    <tr>\n",
       "      <th>0</th>\n",
       "      <td>35.1</td>\n",
       "      <td>11.8</td>\n",
       "      <td>4.65</td>\n",
       "      <td>6.3</td>\n",
       "      <td>310</td>\n",
       "      <td>25.4</td>\n",
       "      <td>33.6</td>\n",
       "      <td>75.5</td>\n",
       "      <td>1</td>\n",
       "      <td>1</td>\n",
       "    </tr>\n",
       "    <tr>\n",
       "      <th>1</th>\n",
       "      <td>43.5</td>\n",
       "      <td>14.8</td>\n",
       "      <td>5.39</td>\n",
       "      <td>12.7</td>\n",
       "      <td>334</td>\n",
       "      <td>27.5</td>\n",
       "      <td>34.0</td>\n",
       "      <td>80.7</td>\n",
       "      <td>1</td>\n",
       "      <td>1</td>\n",
       "    </tr>\n",
       "    <tr>\n",
       "      <th>2</th>\n",
       "      <td>33.5</td>\n",
       "      <td>11.3</td>\n",
       "      <td>4.74</td>\n",
       "      <td>13.2</td>\n",
       "      <td>305</td>\n",
       "      <td>23.8</td>\n",
       "      <td>33.7</td>\n",
       "      <td>70.7</td>\n",
       "      <td>1</td>\n",
       "      <td>1</td>\n",
       "    </tr>\n",
       "  </tbody>\n",
       "</table>\n",
       "</div>"
      ],
      "text/plain": [
       "   HAEMATOCRIT  HAEMOGLOBINS  ERYTHROCYTE  LEUCOCYTE  THROMBOCYTE   MCH  MCHC  \\\n",
       "0         35.1          11.8         4.65        6.3          310  25.4  33.6   \n",
       "1         43.5          14.8         5.39       12.7          334  27.5  34.0   \n",
       "2         33.5          11.3         4.74       13.2          305  23.8  33.7   \n",
       "\n",
       "    MCV  AGE  SEX  \n",
       "0  75.5    1    1  \n",
       "1  80.7    1    1  \n",
       "2  70.7    1    1  "
      ]
     },
     "execution_count": 8,
     "metadata": {},
     "output_type": "execute_result"
    }
   ],
   "source": [
    "x.head(3)"
   ]
  },
  {
   "cell_type": "code",
   "execution_count": 9,
   "id": "86594c1b",
   "metadata": {
    "id": "86594c1b",
    "outputId": "46da6e43-88a7-4204-aa88-3e147b50ab5b"
   },
   "outputs": [
    {
     "data": {
      "text/plain": [
       "0    out\n",
       "1    out\n",
       "2    out\n",
       "Name: SOURCE, dtype: object"
      ]
     },
     "execution_count": 9,
     "metadata": {},
     "output_type": "execute_result"
    }
   ],
   "source": [
    "y.head(3)"
   ]
  },
  {
   "cell_type": "code",
   "execution_count": 10,
   "id": "28eea0d7",
   "metadata": {
    "id": "28eea0d7",
    "outputId": "e01cec4d-1f40-4285-d92d-e08a16f6337e"
   },
   "outputs": [
    {
     "name": "stdout",
     "output_type": "stream",
     "text": [
      "(3088, 10)\n",
      "(1324, 10)\n",
      "(3088,)\n",
      "(1324,)\n"
     ]
    }
   ],
   "source": [
    "x_train,x_test,y_train,y_test = train_test_split(x,y,test_size=0.3)\n",
    "print(x_train.shape)\n",
    "print(x_test.shape)\n",
    "print(y_train.shape)\n",
    "print(y_test.shape)"
   ]
  },
  {
   "cell_type": "markdown",
   "id": "cb1aab10",
   "metadata": {
    "id": "cb1aab10"
   },
   "source": [
    "### AdaBoost Classifier"
   ]
  },
  {
   "cell_type": "code",
   "execution_count": 11,
   "id": "c8a2d722",
   "metadata": {
    "id": "c8a2d722",
    "outputId": "5547e0e3-c202-4bf2-c71d-8a84660412b5"
   },
   "outputs": [
    {
     "data": {
      "text/plain": [
       "AdaBoostClassifier()"
      ]
     },
     "execution_count": 11,
     "metadata": {},
     "output_type": "execute_result"
    }
   ],
   "source": [
    "ada1 = AdaBoostClassifier() # n_estimators=50, DecisionTreeClassifier(max_depth=1)\n",
    "ada1.fit(x_train,y_train)"
   ]
  },
  {
   "cell_type": "code",
   "execution_count": 12,
   "id": "9c6d4207",
   "metadata": {
    "id": "9c6d4207",
    "outputId": "fc08d6ee-a0e9-4780-b8d4-179a9a19b3d6"
   },
   "outputs": [
    {
     "name": "stdout",
     "output_type": "stream",
     "text": [
      "Training Acc 0.7606865284974094\n",
      "Testing Acc 0.7439577039274925\n"
     ]
    }
   ],
   "source": [
    "print('Training Acc',ada1.score(x_train,y_train))\n",
    "print('Testing Acc',ada1.score(x_test,y_test))"
   ]
  },
  {
   "cell_type": "code",
   "execution_count": 13,
   "id": "00ae9eb0",
   "metadata": {
    "id": "00ae9eb0"
   },
   "outputs": [],
   "source": [
    "ypred_ada1 = ada1.predict(x_test)"
   ]
  },
  {
   "cell_type": "code",
   "execution_count": 14,
   "id": "00648997",
   "metadata": {
    "id": "00648997",
    "outputId": "c9cbb2e0-8127-49b2-b3af-9fff91097843"
   },
   "outputs": [
    {
     "name": "stdout",
     "output_type": "stream",
     "text": [
      "[[323 225]\n",
      " [114 662]]\n",
      "              precision    recall  f1-score   support\n",
      "\n",
      "          in       0.74      0.59      0.66       548\n",
      "         out       0.75      0.85      0.80       776\n",
      "\n",
      "    accuracy                           0.74      1324\n",
      "   macro avg       0.74      0.72      0.73      1324\n",
      "weighted avg       0.74      0.74      0.74      1324\n",
      "\n"
     ]
    }
   ],
   "source": [
    "cm1 = confusion_matrix(y_test,ypred_ada1)\n",
    "print(cm1)\n",
    "print(classification_report(y_test,ypred_ada1))"
   ]
  },
  {
   "cell_type": "markdown",
   "id": "a28dd5cb",
   "metadata": {
    "id": "a28dd5cb"
   },
   "source": [
    "### AdaBoost with modifications"
   ]
  },
  {
   "cell_type": "code",
   "execution_count": 15,
   "id": "85f286cd",
   "metadata": {
    "id": "85f286cd"
   },
   "outputs": [],
   "source": [
    "from sklearn.tree import DecisionTreeClassifier"
   ]
  },
  {
   "cell_type": "code",
   "execution_count": 16,
   "id": "1d97e063",
   "metadata": {
    "id": "1d97e063",
    "outputId": "432bf288-1d73-4c56-e00e-fc95685d9d54"
   },
   "outputs": [
    {
     "data": {
      "text/plain": [
       "AdaBoostClassifier(base_estimator=DecisionTreeClassifier(max_depth=2),\n",
       "                   n_estimators=35)"
      ]
     },
     "execution_count": 16,
     "metadata": {},
     "output_type": "execute_result"
    }
   ],
   "source": [
    "dt1 = DecisionTreeClassifier(max_depth=2)\n",
    "ada2 = AdaBoostClassifier(base_estimator=dt1, n_estimators=35) \n",
    "ada2.fit(x_train,y_train)"
   ]
  },
  {
   "cell_type": "code",
   "execution_count": 17,
   "id": "0eebfbec",
   "metadata": {
    "id": "0eebfbec",
    "outputId": "5e480eed-8253-491e-f8b8-bfe4d5c88d1f"
   },
   "outputs": [
    {
     "name": "stdout",
     "output_type": "stream",
     "text": [
      "Training Acc 0.7856217616580311\n",
      "Testing Acc 0.7311178247734139\n"
     ]
    }
   ],
   "source": [
    "print('Training Acc',ada2.score(x_train,y_train))\n",
    "print('Testing Acc',ada2.score(x_test,y_test))"
   ]
  },
  {
   "cell_type": "code",
   "execution_count": 18,
   "id": "e766e47e",
   "metadata": {
    "id": "e766e47e"
   },
   "outputs": [],
   "source": [
    "ypred_ada2 = ada2.predict(x_test)"
   ]
  },
  {
   "cell_type": "code",
   "execution_count": 19,
   "id": "46b0d753",
   "metadata": {
    "id": "46b0d753",
    "outputId": "ddadd14f-debd-4a46-eadd-e02ba3eb84fd"
   },
   "outputs": [
    {
     "name": "stdout",
     "output_type": "stream",
     "text": [
      "[[332 216]\n",
      " [140 636]]\n",
      "              precision    recall  f1-score   support\n",
      "\n",
      "          in       0.70      0.61      0.65       548\n",
      "         out       0.75      0.82      0.78       776\n",
      "\n",
      "    accuracy                           0.73      1324\n",
      "   macro avg       0.72      0.71      0.72      1324\n",
      "weighted avg       0.73      0.73      0.73      1324\n",
      "\n"
     ]
    }
   ],
   "source": [
    "cm2 = confusion_matrix(y_test,ypred_ada2)\n",
    "print(cm2)\n",
    "print(classification_report(y_test,ypred_ada2))"
   ]
  }
 ],
 "metadata": {
  "colab": {
   "name": "AdaBoost_Patient_data_1-2pm.ipynb",
   "provenance": []
  },
  "kernelspec": {
   "display_name": "Python 3",
   "language": "python",
   "name": "python3"
  },
  "language_info": {
   "codemirror_mode": {
    "name": "ipython",
    "version": 3
   },
   "file_extension": ".py",
   "mimetype": "text/x-python",
   "name": "python",
   "nbconvert_exporter": "python",
   "pygments_lexer": "ipython3",
   "version": "3.8.8"
  }
 },
 "nbformat": 4,
 "nbformat_minor": 5
}
